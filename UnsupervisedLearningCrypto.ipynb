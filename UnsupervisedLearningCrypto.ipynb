{
 "cells": [
  {
   "cell_type": "code",
   "execution_count": 714,
   "id": "4bd38d74-fff7-4070-8279-2b4ec9921c2a",
   "metadata": {},
   "outputs": [],
   "source": [
    "import matplotlib.pyplot as plt \n",
    "from matplotlib.pylab import rcParams\n",
    "import pandas as pd\n",
    "import numpy as np\n",
    "%matplotlib inline\n",
    "import seaborn as sns\n",
    "sns.set(style='darkgrid',font='Arial',font_scale=1.2)\n",
    "rcParams['figure.figsize'] = 12,8\n",
    "rcParams['axes.spines.top'] = False\n",
    "rcParams['axes.spines.right'] = False"
   ]
  },
  {
   "cell_type": "code",
   "execution_count": 736,
   "id": "2105db7c-4fd1-4076-bb5f-ffc3cfc9a4ab",
   "metadata": {},
   "outputs": [],
   "source": [
    "df = pd.read_csv('crypto_data.csv')"
   ]
  },
  {
   "cell_type": "code",
   "execution_count": 737,
   "id": "5553a3b0-c425-426d-9b46-613b417dad48",
   "metadata": {},
   "outputs": [],
   "source": [
    "df = pd.DataFrame(df)"
   ]
  },
  {
   "cell_type": "code",
   "execution_count": 738,
   "id": "99a0a595-344c-423f-849a-344c888e44fc",
   "metadata": {},
   "outputs": [
    {
     "name": "stdout",
     "output_type": "stream",
     "text": [
      "<class 'pandas.core.frame.DataFrame'>\n",
      "RangeIndex: 1252 entries, 0 to 1251\n",
      "Data columns (total 7 columns):\n",
      " #   Column           Non-Null Count  Dtype  \n",
      "---  ------           --------------  -----  \n",
      " 0   Unnamed: 0       1252 non-null   object \n",
      " 1   CoinName         1252 non-null   object \n",
      " 2   Algorithm        1252 non-null   object \n",
      " 3   IsTrading        1252 non-null   bool   \n",
      " 4   ProofType        1252 non-null   object \n",
      " 5   TotalCoinsMined  744 non-null    float64\n",
      " 6   TotalCoinSupply  1252 non-null   object \n",
      "dtypes: bool(1), float64(1), object(5)\n",
      "memory usage: 60.0+ KB\n"
     ]
    }
   ],
   "source": [
    "df.info()"
   ]
  },
  {
   "cell_type": "code",
   "execution_count": 741,
   "id": "1d9afaa4-7636-4639-8397-fb87cb002458",
   "metadata": {},
   "outputs": [
    {
     "name": "stdout",
     "output_type": "stream",
     "text": [
      "Collecting sweetviz\n",
      "  Using cached sweetviz-2.1.3-py3-none-any.whl (15.1 MB)\n",
      "Requirement already satisfied: tqdm>=4.43.0 in /Users/ccbernal/opt/anaconda3/envs/pycaret_env/lib/python3.8/site-packages (from sweetviz) (4.63.0)\n",
      "Requirement already satisfied: scipy>=1.3.2 in /Users/ccbernal/opt/anaconda3/envs/pycaret_env/lib/python3.8/site-packages (from sweetviz) (1.5.4)\n",
      "Requirement already satisfied: numpy>=1.16.0 in /Users/ccbernal/opt/anaconda3/envs/pycaret_env/lib/python3.8/site-packages (from sweetviz) (1.22.3)\n",
      "Requirement already satisfied: matplotlib>=3.1.3 in /Users/ccbernal/opt/anaconda3/envs/pycaret_env/lib/python3.8/site-packages (from sweetviz) (3.5.1)\n",
      "Requirement already satisfied: pandas!=1.0.0,!=1.0.1,!=1.0.2,>=0.25.3 in /Users/ccbernal/opt/anaconda3/envs/pycaret_env/lib/python3.8/site-packages (from sweetviz) (1.4.1)\n",
      "Requirement already satisfied: importlib-resources>=1.2.0 in /Users/ccbernal/opt/anaconda3/envs/pycaret_env/lib/python3.8/site-packages (from sweetviz) (5.4.0)\n",
      "Requirement already satisfied: jinja2>=2.11.1 in /Users/ccbernal/opt/anaconda3/envs/pycaret_env/lib/python3.8/site-packages (from sweetviz) (3.0.3)\n",
      "Requirement already satisfied: zipp>=3.1.0 in /Users/ccbernal/opt/anaconda3/envs/pycaret_env/lib/python3.8/site-packages (from importlib-resources>=1.2.0->sweetviz) (3.7.0)\n",
      "Requirement already satisfied: MarkupSafe>=2.0 in /Users/ccbernal/opt/anaconda3/envs/pycaret_env/lib/python3.8/site-packages (from jinja2>=2.11.1->sweetviz) (2.0.1)\n",
      "Requirement already satisfied: fonttools>=4.22.0 in /Users/ccbernal/opt/anaconda3/envs/pycaret_env/lib/python3.8/site-packages (from matplotlib>=3.1.3->sweetviz) (4.30.0)\n",
      "Requirement already satisfied: pyparsing>=2.2.1 in /Users/ccbernal/opt/anaconda3/envs/pycaret_env/lib/python3.8/site-packages (from matplotlib>=3.1.3->sweetviz) (3.0.7)\n",
      "Requirement already satisfied: kiwisolver>=1.0.1 in /Users/ccbernal/opt/anaconda3/envs/pycaret_env/lib/python3.8/site-packages (from matplotlib>=3.1.3->sweetviz) (1.4.0)\n",
      "Requirement already satisfied: python-dateutil>=2.7 in /Users/ccbernal/opt/anaconda3/envs/pycaret_env/lib/python3.8/site-packages (from matplotlib>=3.1.3->sweetviz) (2.8.2)\n",
      "Requirement already satisfied: pillow>=6.2.0 in /Users/ccbernal/opt/anaconda3/envs/pycaret_env/lib/python3.8/site-packages (from matplotlib>=3.1.3->sweetviz) (9.0.1)\n",
      "Requirement already satisfied: packaging>=20.0 in /Users/ccbernal/opt/anaconda3/envs/pycaret_env/lib/python3.8/site-packages (from matplotlib>=3.1.3->sweetviz) (21.3)\n",
      "Requirement already satisfied: cycler>=0.10 in /Users/ccbernal/opt/anaconda3/envs/pycaret_env/lib/python3.8/site-packages (from matplotlib>=3.1.3->sweetviz) (0.11.0)\n",
      "Requirement already satisfied: pytz>=2020.1 in /Users/ccbernal/opt/anaconda3/envs/pycaret_env/lib/python3.8/site-packages (from pandas!=1.0.0,!=1.0.1,!=1.0.2,>=0.25.3->sweetviz) (2021.3)\n",
      "Requirement already satisfied: six>=1.5 in /Users/ccbernal/opt/anaconda3/envs/pycaret_env/lib/python3.8/site-packages (from python-dateutil>=2.7->matplotlib>=3.1.3->sweetviz) (1.16.0)\n",
      "Installing collected packages: sweetviz\n",
      "Successfully installed sweetviz-2.1.3\n",
      "Note: you may need to restart the kernel to use updated packages.\n"
     ]
    }
   ],
   "source": [
    "pip install sweetviz"
   ]
  },
  {
   "cell_type": "code",
   "execution_count": 747,
   "id": "27f1c00f-bb2a-4f72-848d-ffbddc02aea9",
   "metadata": {},
   "outputs": [
    {
     "data": {
      "text/html": [
       "<div>\n",
       "<style scoped>\n",
       "    .dataframe tbody tr th:only-of-type {\n",
       "        vertical-align: middle;\n",
       "    }\n",
       "\n",
       "    .dataframe tbody tr th {\n",
       "        vertical-align: top;\n",
       "    }\n",
       "\n",
       "    .dataframe thead th {\n",
       "        text-align: right;\n",
       "    }\n",
       "</style>\n",
       "<table border=\"1\" class=\"dataframe\">\n",
       "  <thead>\n",
       "    <tr style=\"text-align: right;\">\n",
       "      <th></th>\n",
       "      <th>Unnamed: 0</th>\n",
       "      <th>CoinName</th>\n",
       "      <th>Algorithm</th>\n",
       "      <th>IsTrading</th>\n",
       "      <th>ProofType</th>\n",
       "      <th>TotalCoinsMined</th>\n",
       "      <th>TotalCoinSupply</th>\n",
       "    </tr>\n",
       "  </thead>\n",
       "  <tbody>\n",
       "    <tr>\n",
       "      <th>0</th>\n",
       "      <td>42</td>\n",
       "      <td>42 Coin</td>\n",
       "      <td>Scrypt</td>\n",
       "      <td>True</td>\n",
       "      <td>PoW/PoS</td>\n",
       "      <td>4.199995e+01</td>\n",
       "      <td>42</td>\n",
       "    </tr>\n",
       "    <tr>\n",
       "      <th>2</th>\n",
       "      <td>404</td>\n",
       "      <td>404Coin</td>\n",
       "      <td>Scrypt</td>\n",
       "      <td>True</td>\n",
       "      <td>PoW/PoS</td>\n",
       "      <td>1.055185e+09</td>\n",
       "      <td>532000000</td>\n",
       "    </tr>\n",
       "    <tr>\n",
       "      <th>4</th>\n",
       "      <td>808</td>\n",
       "      <td>808</td>\n",
       "      <td>SHA-256</td>\n",
       "      <td>True</td>\n",
       "      <td>PoW/PoS</td>\n",
       "      <td>0.000000e+00</td>\n",
       "      <td>0</td>\n",
       "    </tr>\n",
       "    <tr>\n",
       "      <th>5</th>\n",
       "      <td>1337</td>\n",
       "      <td>EliteCoin</td>\n",
       "      <td>X13</td>\n",
       "      <td>True</td>\n",
       "      <td>PoW/PoS</td>\n",
       "      <td>2.927942e+10</td>\n",
       "      <td>314159265359</td>\n",
       "    </tr>\n",
       "    <tr>\n",
       "      <th>7</th>\n",
       "      <td>BTC</td>\n",
       "      <td>Bitcoin</td>\n",
       "      <td>SHA-256</td>\n",
       "      <td>True</td>\n",
       "      <td>PoW</td>\n",
       "      <td>1.792718e+07</td>\n",
       "      <td>21000000</td>\n",
       "    </tr>\n",
       "    <tr>\n",
       "      <th>...</th>\n",
       "      <td>...</td>\n",
       "      <td>...</td>\n",
       "      <td>...</td>\n",
       "      <td>...</td>\n",
       "      <td>...</td>\n",
       "      <td>...</td>\n",
       "      <td>...</td>\n",
       "    </tr>\n",
       "    <tr>\n",
       "      <th>1242</th>\n",
       "      <td>GAP</td>\n",
       "      <td>Gapcoin</td>\n",
       "      <td>Scrypt</td>\n",
       "      <td>True</td>\n",
       "      <td>PoW/PoS</td>\n",
       "      <td>1.493105e+07</td>\n",
       "      <td>250000000</td>\n",
       "    </tr>\n",
       "    <tr>\n",
       "      <th>1245</th>\n",
       "      <td>BDX</td>\n",
       "      <td>Beldex</td>\n",
       "      <td>CryptoNight</td>\n",
       "      <td>True</td>\n",
       "      <td>PoW</td>\n",
       "      <td>9.802226e+08</td>\n",
       "      <td>1400222610</td>\n",
       "    </tr>\n",
       "    <tr>\n",
       "      <th>1246</th>\n",
       "      <td>ZEN</td>\n",
       "      <td>Horizen</td>\n",
       "      <td>Equihash</td>\n",
       "      <td>True</td>\n",
       "      <td>PoW</td>\n",
       "      <td>7.296538e+06</td>\n",
       "      <td>21000000</td>\n",
       "    </tr>\n",
       "    <tr>\n",
       "      <th>1247</th>\n",
       "      <td>XBC</td>\n",
       "      <td>BitcoinPlus</td>\n",
       "      <td>Scrypt</td>\n",
       "      <td>True</td>\n",
       "      <td>PoS</td>\n",
       "      <td>1.283270e+05</td>\n",
       "      <td>1000000</td>\n",
       "    </tr>\n",
       "    <tr>\n",
       "      <th>1248</th>\n",
       "      <td>DVTC</td>\n",
       "      <td>DivotyCoin</td>\n",
       "      <td>Scrypt</td>\n",
       "      <td>False</td>\n",
       "      <td>PoW/PoS</td>\n",
       "      <td>2.149121e+07</td>\n",
       "      <td>100000000</td>\n",
       "    </tr>\n",
       "  </tbody>\n",
       "</table>\n",
       "<p>744 rows × 7 columns</p>\n",
       "</div>"
      ],
      "text/plain": [
       "     Unnamed: 0     CoinName    Algorithm  IsTrading ProofType  \\\n",
       "0            42      42 Coin       Scrypt       True   PoW/PoS   \n",
       "2           404      404Coin       Scrypt       True   PoW/PoS   \n",
       "4           808          808      SHA-256       True   PoW/PoS   \n",
       "5          1337    EliteCoin          X13       True   PoW/PoS   \n",
       "7           BTC      Bitcoin      SHA-256       True       PoW   \n",
       "...         ...          ...          ...        ...       ...   \n",
       "1242        GAP      Gapcoin       Scrypt       True   PoW/PoS   \n",
       "1245        BDX       Beldex  CryptoNight       True       PoW   \n",
       "1246        ZEN      Horizen     Equihash       True       PoW   \n",
       "1247        XBC  BitcoinPlus       Scrypt       True       PoS   \n",
       "1248       DVTC   DivotyCoin       Scrypt      False   PoW/PoS   \n",
       "\n",
       "      TotalCoinsMined TotalCoinSupply  \n",
       "0        4.199995e+01              42  \n",
       "2        1.055185e+09       532000000  \n",
       "4        0.000000e+00               0  \n",
       "5        2.927942e+10    314159265359  \n",
       "7        1.792718e+07        21000000  \n",
       "...               ...             ...  \n",
       "1242     1.493105e+07       250000000  \n",
       "1245     9.802226e+08      1400222610  \n",
       "1246     7.296538e+06        21000000  \n",
       "1247     1.283270e+05         1000000  \n",
       "1248     2.149121e+07       100000000  \n",
       "\n",
       "[744 rows x 7 columns]"
      ]
     },
     "execution_count": 747,
     "metadata": {},
     "output_type": "execute_result"
    }
   ],
   "source": [
    "df.dropna()"
   ]
  },
  {
   "cell_type": "code",
   "execution_count": 749,
   "id": "05087e92-9158-4364-b550-35fd6f7ba2c3",
   "metadata": {},
   "outputs": [
    {
     "data": {
      "application/vnd.jupyter.widget-view+json": {
       "model_id": "6d24880b54d4408ba7dc254dad5b9d3b",
       "version_major": 2,
       "version_minor": 0
      },
      "text/plain": [
       "                                             |      | [  0%]   00:00 -> (? left)"
      ]
     },
     "metadata": {},
     "output_type": "display_data"
    },
    {
     "name": "stderr",
     "output_type": "stream",
     "text": [
      "/Users/ccbernal/opt/anaconda3/envs/pycaret_env/lib/python3.8/site-packages/sweetviz/utils.py:34: FutureWarning: The series.append method is deprecated and will be removed from pandas in a future version. Use pandas.concat instead.\n",
      "  clamped_series = clamped_series.append(other_series, ignore_index=False)\n",
      "/Users/ccbernal/opt/anaconda3/envs/pycaret_env/lib/python3.8/site-packages/sweetviz/utils.py:34: FutureWarning: The series.append method is deprecated and will be removed from pandas in a future version. Use pandas.concat instead.\n",
      "  clamped_series = clamped_series.append(other_series, ignore_index=False)\n",
      "/Users/ccbernal/opt/anaconda3/envs/pycaret_env/lib/python3.8/site-packages/sweetviz/utils.py:34: FutureWarning: The series.append method is deprecated and will be removed from pandas in a future version. Use pandas.concat instead.\n",
      "  clamped_series = clamped_series.append(other_series, ignore_index=False)\n",
      "/Users/ccbernal/opt/anaconda3/envs/pycaret_env/lib/python3.8/site-packages/sweetviz/utils.py:34: FutureWarning: The series.append method is deprecated and will be removed from pandas in a future version. Use pandas.concat instead.\n",
      "  clamped_series = clamped_series.append(other_series, ignore_index=False)\n",
      "/Users/ccbernal/opt/anaconda3/envs/pycaret_env/lib/python3.8/site-packages/sweetviz/utils.py:34: FutureWarning: The series.append method is deprecated and will be removed from pandas in a future version. Use pandas.concat instead.\n",
      "  clamped_series = clamped_series.append(other_series, ignore_index=False)\n",
      "/Users/ccbernal/opt/anaconda3/envs/pycaret_env/lib/python3.8/site-packages/sweetviz/utils.py:34: FutureWarning: The series.append method is deprecated and will be removed from pandas in a future version. Use pandas.concat instead.\n",
      "  clamped_series = clamped_series.append(other_series, ignore_index=False)\n",
      "/Users/ccbernal/opt/anaconda3/envs/pycaret_env/lib/python3.8/site-packages/sweetviz/graph_associations.py:223: FutureWarning: The frame.append method is deprecated and will be removed from pandas in a future version. Use pandas.concat instead.\n",
      "  new_dataframe = new_dataframe.append(pd.Series(empty_row_dict, name=feature))\n",
      "/Users/ccbernal/opt/anaconda3/envs/pycaret_env/lib/python3.8/site-packages/sweetviz/graph_associations.py:223: FutureWarning: The frame.append method is deprecated and will be removed from pandas in a future version. Use pandas.concat instead.\n",
      "  new_dataframe = new_dataframe.append(pd.Series(empty_row_dict, name=feature))\n",
      "/Users/ccbernal/opt/anaconda3/envs/pycaret_env/lib/python3.8/site-packages/sweetviz/graph_associations.py:223: FutureWarning: The frame.append method is deprecated and will be removed from pandas in a future version. Use pandas.concat instead.\n",
      "  new_dataframe = new_dataframe.append(pd.Series(empty_row_dict, name=feature))\n",
      "/Users/ccbernal/opt/anaconda3/envs/pycaret_env/lib/python3.8/site-packages/sweetviz/graph_associations.py:223: FutureWarning: The frame.append method is deprecated and will be removed from pandas in a future version. Use pandas.concat instead.\n",
      "  new_dataframe = new_dataframe.append(pd.Series(empty_row_dict, name=feature))\n"
     ]
    },
    {
     "name": "stdout",
     "output_type": "stream",
     "text": [
      "Report SWEETVIZ_REPORT.html was generated! NOTEBOOK/COLAB USERS: the web browser MAY not pop up, regardless, the report IS saved in your notebook/colab files.\n"
     ]
    }
   ],
   "source": [
    "import sweetviz as sv\n",
    "\n",
    "#You could specify which variable in your dataset is the target for your model creation. We can specify it using the target_feat parameter.\n",
    "\n",
    "my_report = sv.analyze(df)\n",
    "\n",
    "my_report.show_html()\n",
    "\n",
    "##Subset by using the compare_intra. We input the condition in the parameter and the name as well.\n",
    "\n",
    "# my_report = sv.compare_intra(df, df[\"column\"] == \"variable\", [\"variable1\", \"variable2\"], target_feat ='column')\n",
    "\n",
    "# my_report.show_html()"
   ]
  },
  {
   "cell_type": "code",
   "execution_count": 745,
   "id": "93f11441-a420-4c56-bd68-5eb5c80805c5",
   "metadata": {},
   "outputs": [],
   "source": [
    "# I only want circulating coins so I look for and drop any False rows for the column IsTrading"
   ]
  },
  {
   "cell_type": "code",
   "execution_count": 750,
   "id": "2fcb65ba-6add-44f1-afff-c949c40401de",
   "metadata": {},
   "outputs": [
    {
     "data": {
      "text/plain": [
       "True     1144\n",
       "False     108\n",
       "Name: IsTrading, dtype: int64"
      ]
     },
     "execution_count": 750,
     "metadata": {},
     "output_type": "execute_result"
    }
   ],
   "source": [
    "df['IsTrading'].value_counts()"
   ]
  },
  {
   "cell_type": "code",
   "execution_count": 751,
   "id": "dd244c83-5131-432a-a383-cdeb855a6510",
   "metadata": {},
   "outputs": [],
   "source": [
    "df = df[df['IsTrading'] == True]"
   ]
  },
  {
   "cell_type": "code",
   "execution_count": 752,
   "id": "4251e6da-e9c5-41fa-94ff-ce89d2483444",
   "metadata": {},
   "outputs": [
    {
     "name": "stdout",
     "output_type": "stream",
     "text": [
      "<class 'pandas.core.frame.DataFrame'>\n",
      "Int64Index: 1144 entries, 0 to 1247\n",
      "Data columns (total 7 columns):\n",
      " #   Column           Non-Null Count  Dtype  \n",
      "---  ------           --------------  -----  \n",
      " 0   Unnamed: 0       1144 non-null   object \n",
      " 1   CoinName         1144 non-null   object \n",
      " 2   Algorithm        1144 non-null   object \n",
      " 3   IsTrading        1144 non-null   bool   \n",
      " 4   ProofType        1144 non-null   object \n",
      " 5   TotalCoinsMined  685 non-null    float64\n",
      " 6   TotalCoinSupply  1144 non-null   object \n",
      "dtypes: bool(1), float64(1), object(5)\n",
      "memory usage: 63.7+ KB\n"
     ]
    }
   ],
   "source": [
    "df.info()"
   ]
  },
  {
   "cell_type": "code",
   "execution_count": 753,
   "id": "feedce0a-8ee4-4f22-b8af-97376217e2b5",
   "metadata": {},
   "outputs": [],
   "source": [
    "# Removing rows with at least 1 null value"
   ]
  },
  {
   "cell_type": "code",
   "execution_count": 754,
   "id": "935864c7-6035-487d-a7c0-22a8910d3789",
   "metadata": {},
   "outputs": [
    {
     "name": "stdout",
     "output_type": "stream",
     "text": [
      "<class 'pandas.core.frame.DataFrame'>\n",
      "Int64Index: 1144 entries, 0 to 1247\n",
      "Data columns (total 7 columns):\n",
      " #   Column           Non-Null Count  Dtype  \n",
      "---  ------           --------------  -----  \n",
      " 0   Unnamed: 0       1144 non-null   object \n",
      " 1   CoinName         1144 non-null   object \n",
      " 2   Algorithm        1144 non-null   object \n",
      " 3   IsTrading        1144 non-null   bool   \n",
      " 4   ProofType        1144 non-null   object \n",
      " 5   TotalCoinsMined  685 non-null    float64\n",
      " 6   TotalCoinSupply  1144 non-null   object \n",
      "dtypes: bool(1), float64(1), object(5)\n",
      "memory usage: 63.7+ KB\n"
     ]
    }
   ],
   "source": [
    "df.dropna\n",
    "df.info()"
   ]
  },
  {
   "cell_type": "code",
   "execution_count": 755,
   "id": "9042fa58-557e-4bdb-be4b-2b4bf0a9be6c",
   "metadata": {},
   "outputs": [],
   "source": [
    "# Removed any rows where Total Coins Mined was less than 0"
   ]
  },
  {
   "cell_type": "code",
   "execution_count": 756,
   "id": "dbdbdcc3-38f6-4ae4-8091-df89f5e524d8",
   "metadata": {},
   "outputs": [],
   "source": [
    "df = df[df[\"TotalCoinsMined\"] > 0]"
   ]
  },
  {
   "cell_type": "code",
   "execution_count": 757,
   "id": "a0f74b1d-188d-4c0a-9c2c-fc6b97f33868",
   "metadata": {},
   "outputs": [
    {
     "name": "stdout",
     "output_type": "stream",
     "text": [
      "<class 'pandas.core.frame.DataFrame'>\n",
      "Int64Index: 532 entries, 0 to 1247\n",
      "Data columns (total 7 columns):\n",
      " #   Column           Non-Null Count  Dtype  \n",
      "---  ------           --------------  -----  \n",
      " 0   Unnamed: 0       532 non-null    object \n",
      " 1   CoinName         532 non-null    object \n",
      " 2   Algorithm        532 non-null    object \n",
      " 3   IsTrading        532 non-null    bool   \n",
      " 4   ProofType        532 non-null    object \n",
      " 5   TotalCoinsMined  532 non-null    float64\n",
      " 6   TotalCoinSupply  532 non-null    object \n",
      "dtypes: bool(1), float64(1), object(5)\n",
      "memory usage: 29.6+ KB\n"
     ]
    }
   ],
   "source": [
    "df.info()"
   ]
  },
  {
   "cell_type": "code",
   "execution_count": 758,
   "id": "4851867b-c18c-41ed-b441-b97381bd773b",
   "metadata": {},
   "outputs": [],
   "source": [
    "# Dropping CoinName column because the names don't really contribute to the model's analysis"
   ]
  },
  {
   "cell_type": "code",
   "execution_count": 759,
   "id": "d1c9fb91-b8c0-4eda-b2de-9005c999bf5b",
   "metadata": {},
   "outputs": [],
   "source": [
    "df_coin_names = df['CoinName']"
   ]
  },
  {
   "cell_type": "code",
   "execution_count": 760,
   "id": "29ed06eb-50b9-42a0-bebb-308cc1526e61",
   "metadata": {},
   "outputs": [],
   "source": [
    "df = df.drop('CoinName', axis=1)"
   ]
  },
  {
   "cell_type": "code",
   "execution_count": 761,
   "id": "28b2f0be-74d2-4295-9adb-325192dadc43",
   "metadata": {},
   "outputs": [],
   "source": [
    "df = df.drop('IsTrading', axis=1)"
   ]
  },
  {
   "cell_type": "code",
   "execution_count": 762,
   "id": "36f3a065-0c1d-441a-aba0-ad9c1609575e",
   "metadata": {},
   "outputs": [],
   "source": [
    "df = df.drop('Unnamed: 0', axis=1)"
   ]
  },
  {
   "cell_type": "code",
   "execution_count": 763,
   "id": "aee7a44f-047d-4be1-b5a1-d1812ba7f222",
   "metadata": {},
   "outputs": [
    {
     "name": "stdout",
     "output_type": "stream",
     "text": [
      "<class 'pandas.core.frame.DataFrame'>\n",
      "Int64Index: 532 entries, 0 to 1247\n",
      "Data columns (total 4 columns):\n",
      " #   Column           Non-Null Count  Dtype  \n",
      "---  ------           --------------  -----  \n",
      " 0   Algorithm        532 non-null    object \n",
      " 1   ProofType        532 non-null    object \n",
      " 2   TotalCoinsMined  532 non-null    float64\n",
      " 3   TotalCoinSupply  532 non-null    object \n",
      "dtypes: float64(1), object(3)\n",
      "memory usage: 20.8+ KB\n"
     ]
    }
   ],
   "source": [
    "df.drop_duplicates()\n",
    "df.info()"
   ]
  },
  {
   "cell_type": "code",
   "execution_count": 764,
   "id": "d0920ae1-2c43-4929-8c78-12c0042632b4",
   "metadata": {},
   "outputs": [
    {
     "data": {
      "text/plain": [
       "Algorithm           object\n",
       "ProofType           object\n",
       "TotalCoinsMined    float64\n",
       "TotalCoinSupply     object\n",
       "dtype: object"
      ]
     },
     "execution_count": 764,
     "metadata": {},
     "output_type": "execute_result"
    }
   ],
   "source": [
    "df.dtypes"
   ]
  },
  {
   "cell_type": "code",
   "execution_count": 765,
   "id": "31f2b2ea-211c-4b6c-a116-ba112c5dfd38",
   "metadata": {},
   "outputs": [
    {
     "data": {
      "text/html": [
       "<div>\n",
       "<style scoped>\n",
       "    .dataframe tbody tr th:only-of-type {\n",
       "        vertical-align: middle;\n",
       "    }\n",
       "\n",
       "    .dataframe tbody tr th {\n",
       "        vertical-align: top;\n",
       "    }\n",
       "\n",
       "    .dataframe thead th {\n",
       "        text-align: right;\n",
       "    }\n",
       "</style>\n",
       "<table border=\"1\" class=\"dataframe\">\n",
       "  <thead>\n",
       "    <tr style=\"text-align: right;\">\n",
       "      <th></th>\n",
       "      <th>Algorithm</th>\n",
       "      <th>ProofType</th>\n",
       "      <th>TotalCoinsMined</th>\n",
       "      <th>TotalCoinSupply</th>\n",
       "    </tr>\n",
       "  </thead>\n",
       "  <tbody>\n",
       "    <tr>\n",
       "      <th>0</th>\n",
       "      <td>Scrypt</td>\n",
       "      <td>PoW/PoS</td>\n",
       "      <td>4.199995e+01</td>\n",
       "      <td>42</td>\n",
       "    </tr>\n",
       "    <tr>\n",
       "      <th>2</th>\n",
       "      <td>Scrypt</td>\n",
       "      <td>PoW/PoS</td>\n",
       "      <td>1.055185e+09</td>\n",
       "      <td>532000000</td>\n",
       "    </tr>\n",
       "    <tr>\n",
       "      <th>5</th>\n",
       "      <td>X13</td>\n",
       "      <td>PoW/PoS</td>\n",
       "      <td>2.927942e+10</td>\n",
       "      <td>314159265359</td>\n",
       "    </tr>\n",
       "    <tr>\n",
       "      <th>7</th>\n",
       "      <td>SHA-256</td>\n",
       "      <td>PoW</td>\n",
       "      <td>1.792718e+07</td>\n",
       "      <td>21000000</td>\n",
       "    </tr>\n",
       "    <tr>\n",
       "      <th>8</th>\n",
       "      <td>Ethash</td>\n",
       "      <td>PoW</td>\n",
       "      <td>1.076842e+08</td>\n",
       "      <td>0</td>\n",
       "    </tr>\n",
       "    <tr>\n",
       "      <th>...</th>\n",
       "      <td>...</td>\n",
       "      <td>...</td>\n",
       "      <td>...</td>\n",
       "      <td>...</td>\n",
       "    </tr>\n",
       "    <tr>\n",
       "      <th>1238</th>\n",
       "      <td>SHA-256</td>\n",
       "      <td>DPoS</td>\n",
       "      <td>2.000000e+09</td>\n",
       "      <td>2000000000</td>\n",
       "    </tr>\n",
       "    <tr>\n",
       "      <th>1242</th>\n",
       "      <td>Scrypt</td>\n",
       "      <td>PoW/PoS</td>\n",
       "      <td>1.493105e+07</td>\n",
       "      <td>250000000</td>\n",
       "    </tr>\n",
       "    <tr>\n",
       "      <th>1245</th>\n",
       "      <td>CryptoNight</td>\n",
       "      <td>PoW</td>\n",
       "      <td>9.802226e+08</td>\n",
       "      <td>1400222610</td>\n",
       "    </tr>\n",
       "    <tr>\n",
       "      <th>1246</th>\n",
       "      <td>Equihash</td>\n",
       "      <td>PoW</td>\n",
       "      <td>7.296538e+06</td>\n",
       "      <td>21000000</td>\n",
       "    </tr>\n",
       "    <tr>\n",
       "      <th>1247</th>\n",
       "      <td>Scrypt</td>\n",
       "      <td>PoS</td>\n",
       "      <td>1.283270e+05</td>\n",
       "      <td>1000000</td>\n",
       "    </tr>\n",
       "  </tbody>\n",
       "</table>\n",
       "<p>532 rows × 4 columns</p>\n",
       "</div>"
      ],
      "text/plain": [
       "        Algorithm ProofType  TotalCoinsMined TotalCoinSupply\n",
       "0          Scrypt   PoW/PoS     4.199995e+01              42\n",
       "2          Scrypt   PoW/PoS     1.055185e+09       532000000\n",
       "5             X13   PoW/PoS     2.927942e+10    314159265359\n",
       "7         SHA-256       PoW     1.792718e+07        21000000\n",
       "8          Ethash       PoW     1.076842e+08               0\n",
       "...           ...       ...              ...             ...\n",
       "1238      SHA-256      DPoS     2.000000e+09      2000000000\n",
       "1242       Scrypt   PoW/PoS     1.493105e+07       250000000\n",
       "1245  CryptoNight       PoW     9.802226e+08      1400222610\n",
       "1246     Equihash       PoW     7.296538e+06        21000000\n",
       "1247       Scrypt       PoS     1.283270e+05         1000000\n",
       "\n",
       "[532 rows x 4 columns]"
      ]
     },
     "execution_count": 765,
     "metadata": {},
     "output_type": "execute_result"
    }
   ],
   "source": [
    "df"
   ]
  },
  {
   "cell_type": "code",
   "execution_count": 766,
   "id": "0f76cf34-84c4-4ccc-8bcf-29643b138212",
   "metadata": {},
   "outputs": [],
   "source": [
    "# Changing categorical data into numerical (enconding) with get dummies function"
   ]
  },
  {
   "cell_type": "code",
   "execution_count": 767,
   "id": "c369e3f8-a26c-4e74-9c7f-9e3ee4f132e9",
   "metadata": {},
   "outputs": [
    {
     "data": {
      "text/html": [
       "<div>\n",
       "<style scoped>\n",
       "    .dataframe tbody tr th:only-of-type {\n",
       "        vertical-align: middle;\n",
       "    }\n",
       "\n",
       "    .dataframe tbody tr th {\n",
       "        vertical-align: top;\n",
       "    }\n",
       "\n",
       "    .dataframe thead th {\n",
       "        text-align: right;\n",
       "    }\n",
       "</style>\n",
       "<table border=\"1\" class=\"dataframe\">\n",
       "  <thead>\n",
       "    <tr style=\"text-align: right;\">\n",
       "      <th></th>\n",
       "      <th>TotalCoinsMined</th>\n",
       "      <th>TotalCoinSupply</th>\n",
       "      <th>Algorithm_1GB AES Pattern Search</th>\n",
       "      <th>Algorithm_536</th>\n",
       "      <th>Algorithm_Argon2d</th>\n",
       "      <th>Algorithm_BLAKE256</th>\n",
       "      <th>Algorithm_Blake</th>\n",
       "      <th>Algorithm_Blake2S</th>\n",
       "      <th>Algorithm_Blake2b</th>\n",
       "      <th>Algorithm_C11</th>\n",
       "      <th>...</th>\n",
       "      <th>ProofType_PoW/PoS</th>\n",
       "      <th>ProofType_PoW/PoS</th>\n",
       "      <th>ProofType_PoW/PoW</th>\n",
       "      <th>ProofType_PoW/nPoS</th>\n",
       "      <th>ProofType_Pos</th>\n",
       "      <th>ProofType_Proof of Authority</th>\n",
       "      <th>ProofType_Proof of Trust</th>\n",
       "      <th>ProofType_TPoS</th>\n",
       "      <th>ProofType_Zero-Knowledge Proof</th>\n",
       "      <th>ProofType_dPoW/PoW</th>\n",
       "    </tr>\n",
       "  </thead>\n",
       "  <tbody>\n",
       "    <tr>\n",
       "      <th>0</th>\n",
       "      <td>4.199995e+01</td>\n",
       "      <td>42</td>\n",
       "      <td>0</td>\n",
       "      <td>0</td>\n",
       "      <td>0</td>\n",
       "      <td>0</td>\n",
       "      <td>0</td>\n",
       "      <td>0</td>\n",
       "      <td>0</td>\n",
       "      <td>0</td>\n",
       "      <td>...</td>\n",
       "      <td>1</td>\n",
       "      <td>0</td>\n",
       "      <td>0</td>\n",
       "      <td>0</td>\n",
       "      <td>0</td>\n",
       "      <td>0</td>\n",
       "      <td>0</td>\n",
       "      <td>0</td>\n",
       "      <td>0</td>\n",
       "      <td>0</td>\n",
       "    </tr>\n",
       "    <tr>\n",
       "      <th>2</th>\n",
       "      <td>1.055185e+09</td>\n",
       "      <td>532000000</td>\n",
       "      <td>0</td>\n",
       "      <td>0</td>\n",
       "      <td>0</td>\n",
       "      <td>0</td>\n",
       "      <td>0</td>\n",
       "      <td>0</td>\n",
       "      <td>0</td>\n",
       "      <td>0</td>\n",
       "      <td>...</td>\n",
       "      <td>1</td>\n",
       "      <td>0</td>\n",
       "      <td>0</td>\n",
       "      <td>0</td>\n",
       "      <td>0</td>\n",
       "      <td>0</td>\n",
       "      <td>0</td>\n",
       "      <td>0</td>\n",
       "      <td>0</td>\n",
       "      <td>0</td>\n",
       "    </tr>\n",
       "    <tr>\n",
       "      <th>5</th>\n",
       "      <td>2.927942e+10</td>\n",
       "      <td>314159265359</td>\n",
       "      <td>0</td>\n",
       "      <td>0</td>\n",
       "      <td>0</td>\n",
       "      <td>0</td>\n",
       "      <td>0</td>\n",
       "      <td>0</td>\n",
       "      <td>0</td>\n",
       "      <td>0</td>\n",
       "      <td>...</td>\n",
       "      <td>1</td>\n",
       "      <td>0</td>\n",
       "      <td>0</td>\n",
       "      <td>0</td>\n",
       "      <td>0</td>\n",
       "      <td>0</td>\n",
       "      <td>0</td>\n",
       "      <td>0</td>\n",
       "      <td>0</td>\n",
       "      <td>0</td>\n",
       "    </tr>\n",
       "    <tr>\n",
       "      <th>7</th>\n",
       "      <td>1.792718e+07</td>\n",
       "      <td>21000000</td>\n",
       "      <td>0</td>\n",
       "      <td>0</td>\n",
       "      <td>0</td>\n",
       "      <td>0</td>\n",
       "      <td>0</td>\n",
       "      <td>0</td>\n",
       "      <td>0</td>\n",
       "      <td>0</td>\n",
       "      <td>...</td>\n",
       "      <td>0</td>\n",
       "      <td>0</td>\n",
       "      <td>0</td>\n",
       "      <td>0</td>\n",
       "      <td>0</td>\n",
       "      <td>0</td>\n",
       "      <td>0</td>\n",
       "      <td>0</td>\n",
       "      <td>0</td>\n",
       "      <td>0</td>\n",
       "    </tr>\n",
       "    <tr>\n",
       "      <th>8</th>\n",
       "      <td>1.076842e+08</td>\n",
       "      <td>0</td>\n",
       "      <td>0</td>\n",
       "      <td>0</td>\n",
       "      <td>0</td>\n",
       "      <td>0</td>\n",
       "      <td>0</td>\n",
       "      <td>0</td>\n",
       "      <td>0</td>\n",
       "      <td>0</td>\n",
       "      <td>...</td>\n",
       "      <td>0</td>\n",
       "      <td>0</td>\n",
       "      <td>0</td>\n",
       "      <td>0</td>\n",
       "      <td>0</td>\n",
       "      <td>0</td>\n",
       "      <td>0</td>\n",
       "      <td>0</td>\n",
       "      <td>0</td>\n",
       "      <td>0</td>\n",
       "    </tr>\n",
       "    <tr>\n",
       "      <th>...</th>\n",
       "      <td>...</td>\n",
       "      <td>...</td>\n",
       "      <td>...</td>\n",
       "      <td>...</td>\n",
       "      <td>...</td>\n",
       "      <td>...</td>\n",
       "      <td>...</td>\n",
       "      <td>...</td>\n",
       "      <td>...</td>\n",
       "      <td>...</td>\n",
       "      <td>...</td>\n",
       "      <td>...</td>\n",
       "      <td>...</td>\n",
       "      <td>...</td>\n",
       "      <td>...</td>\n",
       "      <td>...</td>\n",
       "      <td>...</td>\n",
       "      <td>...</td>\n",
       "      <td>...</td>\n",
       "      <td>...</td>\n",
       "      <td>...</td>\n",
       "    </tr>\n",
       "    <tr>\n",
       "      <th>1238</th>\n",
       "      <td>2.000000e+09</td>\n",
       "      <td>2000000000</td>\n",
       "      <td>0</td>\n",
       "      <td>0</td>\n",
       "      <td>0</td>\n",
       "      <td>0</td>\n",
       "      <td>0</td>\n",
       "      <td>0</td>\n",
       "      <td>0</td>\n",
       "      <td>0</td>\n",
       "      <td>...</td>\n",
       "      <td>0</td>\n",
       "      <td>0</td>\n",
       "      <td>0</td>\n",
       "      <td>0</td>\n",
       "      <td>0</td>\n",
       "      <td>0</td>\n",
       "      <td>0</td>\n",
       "      <td>0</td>\n",
       "      <td>0</td>\n",
       "      <td>0</td>\n",
       "    </tr>\n",
       "    <tr>\n",
       "      <th>1242</th>\n",
       "      <td>1.493105e+07</td>\n",
       "      <td>250000000</td>\n",
       "      <td>0</td>\n",
       "      <td>0</td>\n",
       "      <td>0</td>\n",
       "      <td>0</td>\n",
       "      <td>0</td>\n",
       "      <td>0</td>\n",
       "      <td>0</td>\n",
       "      <td>0</td>\n",
       "      <td>...</td>\n",
       "      <td>1</td>\n",
       "      <td>0</td>\n",
       "      <td>0</td>\n",
       "      <td>0</td>\n",
       "      <td>0</td>\n",
       "      <td>0</td>\n",
       "      <td>0</td>\n",
       "      <td>0</td>\n",
       "      <td>0</td>\n",
       "      <td>0</td>\n",
       "    </tr>\n",
       "    <tr>\n",
       "      <th>1245</th>\n",
       "      <td>9.802226e+08</td>\n",
       "      <td>1400222610</td>\n",
       "      <td>0</td>\n",
       "      <td>0</td>\n",
       "      <td>0</td>\n",
       "      <td>0</td>\n",
       "      <td>0</td>\n",
       "      <td>0</td>\n",
       "      <td>0</td>\n",
       "      <td>0</td>\n",
       "      <td>...</td>\n",
       "      <td>0</td>\n",
       "      <td>0</td>\n",
       "      <td>0</td>\n",
       "      <td>0</td>\n",
       "      <td>0</td>\n",
       "      <td>0</td>\n",
       "      <td>0</td>\n",
       "      <td>0</td>\n",
       "      <td>0</td>\n",
       "      <td>0</td>\n",
       "    </tr>\n",
       "    <tr>\n",
       "      <th>1246</th>\n",
       "      <td>7.296538e+06</td>\n",
       "      <td>21000000</td>\n",
       "      <td>0</td>\n",
       "      <td>0</td>\n",
       "      <td>0</td>\n",
       "      <td>0</td>\n",
       "      <td>0</td>\n",
       "      <td>0</td>\n",
       "      <td>0</td>\n",
       "      <td>0</td>\n",
       "      <td>...</td>\n",
       "      <td>0</td>\n",
       "      <td>0</td>\n",
       "      <td>0</td>\n",
       "      <td>0</td>\n",
       "      <td>0</td>\n",
       "      <td>0</td>\n",
       "      <td>0</td>\n",
       "      <td>0</td>\n",
       "      <td>0</td>\n",
       "      <td>0</td>\n",
       "    </tr>\n",
       "    <tr>\n",
       "      <th>1247</th>\n",
       "      <td>1.283270e+05</td>\n",
       "      <td>1000000</td>\n",
       "      <td>0</td>\n",
       "      <td>0</td>\n",
       "      <td>0</td>\n",
       "      <td>0</td>\n",
       "      <td>0</td>\n",
       "      <td>0</td>\n",
       "      <td>0</td>\n",
       "      <td>0</td>\n",
       "      <td>...</td>\n",
       "      <td>0</td>\n",
       "      <td>0</td>\n",
       "      <td>0</td>\n",
       "      <td>0</td>\n",
       "      <td>0</td>\n",
       "      <td>0</td>\n",
       "      <td>0</td>\n",
       "      <td>0</td>\n",
       "      <td>0</td>\n",
       "      <td>0</td>\n",
       "    </tr>\n",
       "  </tbody>\n",
       "</table>\n",
       "<p>532 rows × 98 columns</p>\n",
       "</div>"
      ],
      "text/plain": [
       "      TotalCoinsMined TotalCoinSupply  Algorithm_1GB AES Pattern Search  \\\n",
       "0        4.199995e+01              42                                 0   \n",
       "2        1.055185e+09       532000000                                 0   \n",
       "5        2.927942e+10    314159265359                                 0   \n",
       "7        1.792718e+07        21000000                                 0   \n",
       "8        1.076842e+08               0                                 0   \n",
       "...               ...             ...                               ...   \n",
       "1238     2.000000e+09      2000000000                                 0   \n",
       "1242     1.493105e+07       250000000                                 0   \n",
       "1245     9.802226e+08      1400222610                                 0   \n",
       "1246     7.296538e+06        21000000                                 0   \n",
       "1247     1.283270e+05         1000000                                 0   \n",
       "\n",
       "      Algorithm_536  Algorithm_Argon2d  Algorithm_BLAKE256  Algorithm_Blake  \\\n",
       "0                 0                  0                   0                0   \n",
       "2                 0                  0                   0                0   \n",
       "5                 0                  0                   0                0   \n",
       "7                 0                  0                   0                0   \n",
       "8                 0                  0                   0                0   \n",
       "...             ...                ...                 ...              ...   \n",
       "1238              0                  0                   0                0   \n",
       "1242              0                  0                   0                0   \n",
       "1245              0                  0                   0                0   \n",
       "1246              0                  0                   0                0   \n",
       "1247              0                  0                   0                0   \n",
       "\n",
       "      Algorithm_Blake2S  Algorithm_Blake2b  Algorithm_C11  ...  \\\n",
       "0                     0                  0              0  ...   \n",
       "2                     0                  0              0  ...   \n",
       "5                     0                  0              0  ...   \n",
       "7                     0                  0              0  ...   \n",
       "8                     0                  0              0  ...   \n",
       "...                 ...                ...            ...  ...   \n",
       "1238                  0                  0              0  ...   \n",
       "1242                  0                  0              0  ...   \n",
       "1245                  0                  0              0  ...   \n",
       "1246                  0                  0              0  ...   \n",
       "1247                  0                  0              0  ...   \n",
       "\n",
       "      ProofType_PoW/PoS  ProofType_PoW/PoS   ProofType_PoW/PoW  \\\n",
       "0                     1                   0                  0   \n",
       "2                     1                   0                  0   \n",
       "5                     1                   0                  0   \n",
       "7                     0                   0                  0   \n",
       "8                     0                   0                  0   \n",
       "...                 ...                 ...                ...   \n",
       "1238                  0                   0                  0   \n",
       "1242                  1                   0                  0   \n",
       "1245                  0                   0                  0   \n",
       "1246                  0                   0                  0   \n",
       "1247                  0                   0                  0   \n",
       "\n",
       "      ProofType_PoW/nPoS  ProofType_Pos  ProofType_Proof of Authority  \\\n",
       "0                      0              0                             0   \n",
       "2                      0              0                             0   \n",
       "5                      0              0                             0   \n",
       "7                      0              0                             0   \n",
       "8                      0              0                             0   \n",
       "...                  ...            ...                           ...   \n",
       "1238                   0              0                             0   \n",
       "1242                   0              0                             0   \n",
       "1245                   0              0                             0   \n",
       "1246                   0              0                             0   \n",
       "1247                   0              0                             0   \n",
       "\n",
       "      ProofType_Proof of Trust  ProofType_TPoS  \\\n",
       "0                            0               0   \n",
       "2                            0               0   \n",
       "5                            0               0   \n",
       "7                            0               0   \n",
       "8                            0               0   \n",
       "...                        ...             ...   \n",
       "1238                         0               0   \n",
       "1242                         0               0   \n",
       "1245                         0               0   \n",
       "1246                         0               0   \n",
       "1247                         0               0   \n",
       "\n",
       "      ProofType_Zero-Knowledge Proof  ProofType_dPoW/PoW  \n",
       "0                                  0                   0  \n",
       "2                                  0                   0  \n",
       "5                                  0                   0  \n",
       "7                                  0                   0  \n",
       "8                                  0                   0  \n",
       "...                              ...                 ...  \n",
       "1238                               0                   0  \n",
       "1242                               0                   0  \n",
       "1245                               0                   0  \n",
       "1246                               0                   0  \n",
       "1247                               0                   0  \n",
       "\n",
       "[532 rows x 98 columns]"
      ]
     },
     "execution_count": 767,
     "metadata": {},
     "output_type": "execute_result"
    }
   ],
   "source": [
    "df = pd.get_dummies(df, columns=['Algorithm', 'ProofType'])\n",
    "df"
   ]
  },
  {
   "cell_type": "code",
   "execution_count": 768,
   "id": "49a15383-e069-43f6-82f3-ec3079c08b18",
   "metadata": {
    "scrolled": true,
    "tags": []
   },
   "outputs": [
    {
     "name": "stdout",
     "output_type": "stream",
     "text": [
      "<class 'pandas.core.frame.DataFrame'>\n",
      "Int64Index: 532 entries, 0 to 1247\n",
      "Data columns (total 98 columns):\n",
      " #   Column                            Non-Null Count  Dtype  \n",
      "---  ------                            --------------  -----  \n",
      " 0   TotalCoinsMined                   532 non-null    float64\n",
      " 1   TotalCoinSupply                   532 non-null    object \n",
      " 2   Algorithm_1GB AES Pattern Search  532 non-null    uint8  \n",
      " 3   Algorithm_536                     532 non-null    uint8  \n",
      " 4   Algorithm_Argon2d                 532 non-null    uint8  \n",
      " 5   Algorithm_BLAKE256                532 non-null    uint8  \n",
      " 6   Algorithm_Blake                   532 non-null    uint8  \n",
      " 7   Algorithm_Blake2S                 532 non-null    uint8  \n",
      " 8   Algorithm_Blake2b                 532 non-null    uint8  \n",
      " 9   Algorithm_C11                     532 non-null    uint8  \n",
      " 10  Algorithm_Cloverhash              532 non-null    uint8  \n",
      " 11  Algorithm_Counterparty            532 non-null    uint8  \n",
      " 12  Algorithm_CryptoNight             532 non-null    uint8  \n",
      " 13  Algorithm_CryptoNight Heavy       532 non-null    uint8  \n",
      " 14  Algorithm_CryptoNight-V7          532 non-null    uint8  \n",
      " 15  Algorithm_Cryptonight-GPU         532 non-null    uint8  \n",
      " 16  Algorithm_DPoS                    532 non-null    uint8  \n",
      " 17  Algorithm_Dagger                  532 non-null    uint8  \n",
      " 18  Algorithm_Dagger-Hashimoto        532 non-null    uint8  \n",
      " 19  Algorithm_ECC 256K1               532 non-null    uint8  \n",
      " 20  Algorithm_Equihash                532 non-null    uint8  \n",
      " 21  Algorithm_Equihash+Scrypt         532 non-null    uint8  \n",
      " 22  Algorithm_Ethash                  532 non-null    uint8  \n",
      " 23  Algorithm_Exosis                  532 non-null    uint8  \n",
      " 24  Algorithm_Green Protocol          532 non-null    uint8  \n",
      " 25  Algorithm_Groestl                 532 non-null    uint8  \n",
      " 26  Algorithm_HMQ1725                 532 non-null    uint8  \n",
      " 27  Algorithm_HybridScryptHash256     532 non-null    uint8  \n",
      " 28  Algorithm_IMesh                   532 non-null    uint8  \n",
      " 29  Algorithm_Jump Consistent Hash    532 non-null    uint8  \n",
      " 30  Algorithm_Keccak                  532 non-null    uint8  \n",
      " 31  Algorithm_Leased POS              532 non-null    uint8  \n",
      " 32  Algorithm_Lyra2RE                 532 non-null    uint8  \n",
      " 33  Algorithm_Lyra2REv2               532 non-null    uint8  \n",
      " 34  Algorithm_Lyra2Z                  532 non-null    uint8  \n",
      " 35  Algorithm_M7 POW                  532 non-null    uint8  \n",
      " 36  Algorithm_Multiple                532 non-null    uint8  \n",
      " 37  Algorithm_NIST5                   532 non-null    uint8  \n",
      " 38  Algorithm_NeoScrypt               532 non-null    uint8  \n",
      " 39  Algorithm_Ouroboros               532 non-null    uint8  \n",
      " 40  Algorithm_PHI1612                 532 non-null    uint8  \n",
      " 41  Algorithm_POS 2.0                 532 non-null    uint8  \n",
      " 42  Algorithm_POS 3.0                 532 non-null    uint8  \n",
      " 43  Algorithm_PoS                     532 non-null    uint8  \n",
      " 44  Algorithm_Proof-of-Authority      532 non-null    uint8  \n",
      " 45  Algorithm_Proof-of-BibleHash      532 non-null    uint8  \n",
      " 46  Algorithm_QUAIT                   532 non-null    uint8  \n",
      " 47  Algorithm_QuBit                   532 non-null    uint8  \n",
      " 48  Algorithm_Quark                   532 non-null    uint8  \n",
      " 49  Algorithm_SHA-256                 532 non-null    uint8  \n",
      " 50  Algorithm_SHA-256 + Hive          532 non-null    uint8  \n",
      " 51  Algorithm_SHA-256D                532 non-null    uint8  \n",
      " 52  Algorithm_SHA-512                 532 non-null    uint8  \n",
      " 53  Algorithm_SHA3                    532 non-null    uint8  \n",
      " 54  Algorithm_Scrypt                  532 non-null    uint8  \n",
      " 55  Algorithm_Semux BFT consensus     532 non-null    uint8  \n",
      " 56  Algorithm_Shabal256               532 non-null    uint8  \n",
      " 57  Algorithm_Skein                   532 non-null    uint8  \n",
      " 58  Algorithm_SkunkHash               532 non-null    uint8  \n",
      " 59  Algorithm_SkunkHash v2 Raptor     532 non-null    uint8  \n",
      " 60  Algorithm_Stanford Folding        532 non-null    uint8  \n",
      " 61  Algorithm_TRC10                   532 non-null    uint8  \n",
      " 62  Algorithm_Time Travel             532 non-null    uint8  \n",
      " 63  Algorithm_Tribus                  532 non-null    uint8  \n",
      " 64  Algorithm_VBFT                    532 non-null    uint8  \n",
      " 65  Algorithm_VeChainThor Authority   532 non-null    uint8  \n",
      " 66  Algorithm_X11                     532 non-null    uint8  \n",
      " 67  Algorithm_X11GOST                 532 non-null    uint8  \n",
      " 68  Algorithm_X13                     532 non-null    uint8  \n",
      " 69  Algorithm_X14                     532 non-null    uint8  \n",
      " 70  Algorithm_X15                     532 non-null    uint8  \n",
      " 71  Algorithm_X16R                    532 non-null    uint8  \n",
      " 72  Algorithm_XEVAN                   532 non-null    uint8  \n",
      " 73  ProofType_DPOS                    532 non-null    uint8  \n",
      " 74  ProofType_DPoS                    532 non-null    uint8  \n",
      " 75  ProofType_HPoW                    532 non-null    uint8  \n",
      " 76  ProofType_LPoS                    532 non-null    uint8  \n",
      " 77  ProofType_POBh                    532 non-null    uint8  \n",
      " 78  ProofType_PoA                     532 non-null    uint8  \n",
      " 79  ProofType_PoC                     532 non-null    uint8  \n",
      " 80  ProofType_PoS                     532 non-null    uint8  \n",
      " 81  ProofType_PoS/LPoS                532 non-null    uint8  \n",
      " 82  ProofType_PoS/PoW                 532 non-null    uint8  \n",
      " 83  ProofType_PoS/PoW/PoT             532 non-null    uint8  \n",
      " 84  ProofType_PoST                    532 non-null    uint8  \n",
      " 85  ProofType_PoW                     532 non-null    uint8  \n",
      " 86  ProofType_PoW + Hive              532 non-null    uint8  \n",
      " 87  ProofType_PoW and PoS             532 non-null    uint8  \n",
      " 88  ProofType_PoW/PoS                 532 non-null    uint8  \n",
      " 89  ProofType_PoW/PoS                 532 non-null    uint8  \n",
      " 90  ProofType_PoW/PoW                 532 non-null    uint8  \n",
      " 91  ProofType_PoW/nPoS                532 non-null    uint8  \n",
      " 92  ProofType_Pos                     532 non-null    uint8  \n",
      " 93  ProofType_Proof of Authority      532 non-null    uint8  \n",
      " 94  ProofType_Proof of Trust          532 non-null    uint8  \n",
      " 95  ProofType_TPoS                    532 non-null    uint8  \n",
      " 96  ProofType_Zero-Knowledge Proof    532 non-null    uint8  \n",
      " 97  ProofType_dPoW/PoW                532 non-null    uint8  \n",
      "dtypes: float64(1), object(1), uint8(96)\n",
      "memory usage: 62.3+ KB\n"
     ]
    }
   ],
   "source": [
    "df.info()"
   ]
  },
  {
   "cell_type": "code",
   "execution_count": 769,
   "id": "e58a32c9-5100-4b9d-bb7a-7cf26e79b66e",
   "metadata": {},
   "outputs": [],
   "source": [
    "# checking shapes"
   ]
  },
  {
   "cell_type": "code",
   "execution_count": 770,
   "id": "a3ef6a5c-d667-4167-a0a4-4e93b95b6e20",
   "metadata": {
    "tags": []
   },
   "outputs": [
    {
     "data": {
      "text/plain": [
       "(532, 98)"
      ]
     },
     "execution_count": 770,
     "metadata": {},
     "output_type": "execute_result"
    }
   ],
   "source": [
    "df.shape"
   ]
  },
  {
   "cell_type": "code",
   "execution_count": 771,
   "id": "62db459c-0ceb-423b-b009-b7186c4c22b0",
   "metadata": {},
   "outputs": [],
   "source": [
    "# before i reduce dimensionality, i will scale the data set "
   ]
  },
  {
   "cell_type": "code",
   "execution_count": 772,
   "id": "dec1b53d-a62b-4109-9c0f-017d4d80facb",
   "metadata": {},
   "outputs": [],
   "source": [
    "from sklearn.preprocessing import StandardScaler\n",
    "scaler = StandardScaler()\n",
    "df = scaler.fit_transform(df)"
   ]
  },
  {
   "cell_type": "code",
   "execution_count": 773,
   "id": "ad8c3a50-1bd1-4563-b7fa-3dd5747e8f70",
   "metadata": {},
   "outputs": [
    {
     "data": {
      "text/plain": [
       "(532, 98)"
      ]
     },
     "execution_count": 773,
     "metadata": {},
     "output_type": "execute_result"
    }
   ],
   "source": [
    "df.shape"
   ]
  },
  {
   "cell_type": "code",
   "execution_count": 774,
   "id": "a7d0acf1-0d1a-443d-b376-f87fb3a90fa0",
   "metadata": {
    "jupyter": {
     "source_hidden": true
    },
    "tags": []
   },
   "outputs": [
    {
     "data": {
      "text/plain": [
       "array([[-0.11710817, -0.1528703 , -0.0433963 , ..., -0.0433963 ,\n",
       "        -0.0433963 , -0.0433963 ],\n",
       "       [-0.09396955, -0.145009  , -0.0433963 , ..., -0.0433963 ,\n",
       "        -0.0433963 , -0.0433963 ],\n",
       "       [ 0.52494561,  4.48942416, -0.0433963 , ..., -0.0433963 ,\n",
       "        -0.0433963 , -0.0433963 ],\n",
       "       ...,\n",
       "       [-0.09561336, -0.13217937, -0.0433963 , ..., -0.0433963 ,\n",
       "        -0.0433963 , -0.0433963 ],\n",
       "       [-0.11694817, -0.15255998, -0.0433963 , ..., -0.0433963 ,\n",
       "        -0.0433963 , -0.0433963 ],\n",
       "       [-0.11710536, -0.15285552, -0.0433963 , ..., -0.0433963 ,\n",
       "        -0.0433963 , -0.0433963 ]])"
      ]
     },
     "execution_count": 774,
     "metadata": {},
     "output_type": "execute_result"
    }
   ],
   "source": [
    "df"
   ]
  },
  {
   "cell_type": "code",
   "execution_count": 775,
   "id": "2ebc504f-d287-458c-bfef-470f2a0096e9",
   "metadata": {},
   "outputs": [],
   "source": [
    "df_scaled = df"
   ]
  },
  {
   "cell_type": "code",
   "execution_count": 776,
   "id": "0321db2f-4746-4f6a-872e-8ce4460c72b5",
   "metadata": {},
   "outputs": [
    {
     "data": {
      "text/plain": [
       "array([[-0.11710817, -0.1528703 , -0.0433963 , ..., -0.0433963 ,\n",
       "        -0.0433963 , -0.0433963 ],\n",
       "       [-0.09396955, -0.145009  , -0.0433963 , ..., -0.0433963 ,\n",
       "        -0.0433963 , -0.0433963 ],\n",
       "       [ 0.52494561,  4.48942416, -0.0433963 , ..., -0.0433963 ,\n",
       "        -0.0433963 , -0.0433963 ],\n",
       "       ...,\n",
       "       [-0.09561336, -0.13217937, -0.0433963 , ..., -0.0433963 ,\n",
       "        -0.0433963 , -0.0433963 ],\n",
       "       [-0.11694817, -0.15255998, -0.0433963 , ..., -0.0433963 ,\n",
       "        -0.0433963 , -0.0433963 ],\n",
       "       [-0.11710536, -0.15285552, -0.0433963 , ..., -0.0433963 ,\n",
       "        -0.0433963 , -0.0433963 ]])"
      ]
     },
     "execution_count": 776,
     "metadata": {},
     "output_type": "execute_result"
    }
   ],
   "source": [
    "df_scaled"
   ]
  },
  {
   "cell_type": "code",
   "execution_count": 777,
   "id": "38ae90d9-3ce8-4ee2-9d7d-11c0de2335ce",
   "metadata": {},
   "outputs": [],
   "source": [
    "#df = df_scaled"
   ]
  },
  {
   "cell_type": "code",
   "execution_count": 778,
   "id": "3d191223-b325-47d4-a656-d49689e9d08b",
   "metadata": {},
   "outputs": [],
   "source": [
    "# using PCA for Dimensionality Reduction"
   ]
  },
  {
   "cell_type": "code",
   "execution_count": 779,
   "id": "52e63c28-7b8c-40f0-b522-28b6faa78786",
   "metadata": {},
   "outputs": [],
   "source": [
    "# Importing Libraries "
   ]
  },
  {
   "cell_type": "code",
   "execution_count": 780,
   "id": "5e084183-be5c-41ac-a749-793e53bd6e43",
   "metadata": {},
   "outputs": [],
   "source": [
    "df_shape = pd.DataFrame(df)"
   ]
  },
  {
   "cell_type": "code",
   "execution_count": 781,
   "id": "0403b736-aa7b-4912-ac9b-04a12e9e48dd",
   "metadata": {},
   "outputs": [],
   "source": [
    "from sklearn.decomposition import PCA\n",
    "from sklearn.cluster import KMeans"
   ]
  },
  {
   "cell_type": "code",
   "execution_count": 782,
   "id": "346341e2-9f57-46bf-8568-3c9cf7d29643",
   "metadata": {},
   "outputs": [],
   "source": [
    "# Initialize PCA model and set n_components to .9 to save at least 90% of the dataset\n",
    "pca = PCA(n_components=4)"
   ]
  },
  {
   "cell_type": "code",
   "execution_count": 783,
   "id": "28383107-d92f-4f1f-9752-b9b9705bd735",
   "metadata": {},
   "outputs": [],
   "source": [
    "# Get two principal components for the data.\n",
    "df_pca = pca.fit_transform(df_scaled)"
   ]
  },
  {
   "cell_type": "code",
   "execution_count": 784,
   "id": "8c792741-6634-4bbb-9c9b-0e16b4dccd9c",
   "metadata": {},
   "outputs": [],
   "source": [
    "# Transform PCA data to a DataFrame\n",
    "df2 = pd.DataFrame(data=df_pca)"
   ]
  },
  {
   "cell_type": "code",
   "execution_count": 785,
   "id": "5359a4e2-73d5-4ddf-ac47-07e1c40d31cb",
   "metadata": {},
   "outputs": [
    {
     "data": {
      "text/plain": [
       "array([[-0.11710817, -0.1528703 , -0.0433963 , ..., -0.0433963 ,\n",
       "        -0.0433963 , -0.0433963 ],\n",
       "       [-0.09396955, -0.145009  , -0.0433963 , ..., -0.0433963 ,\n",
       "        -0.0433963 , -0.0433963 ],\n",
       "       [ 0.52494561,  4.48942416, -0.0433963 , ..., -0.0433963 ,\n",
       "        -0.0433963 , -0.0433963 ],\n",
       "       ...,\n",
       "       [-0.09561336, -0.13217937, -0.0433963 , ..., -0.0433963 ,\n",
       "        -0.0433963 , -0.0433963 ],\n",
       "       [-0.11694817, -0.15255998, -0.0433963 , ..., -0.0433963 ,\n",
       "        -0.0433963 , -0.0433963 ],\n",
       "       [-0.11710536, -0.15285552, -0.0433963 , ..., -0.0433963 ,\n",
       "        -0.0433963 , -0.0433963 ]])"
      ]
     },
     "execution_count": 785,
     "metadata": {},
     "output_type": "execute_result"
    }
   ],
   "source": [
    "df"
   ]
  },
  {
   "cell_type": "code",
   "execution_count": 786,
   "id": "9fd32493-f107-4bcb-8ac6-4ef54f093126",
   "metadata": {},
   "outputs": [
    {
     "data": {
      "text/html": [
       "<div>\n",
       "<style scoped>\n",
       "    .dataframe tbody tr th:only-of-type {\n",
       "        vertical-align: middle;\n",
       "    }\n",
       "\n",
       "    .dataframe tbody tr th {\n",
       "        vertical-align: top;\n",
       "    }\n",
       "\n",
       "    .dataframe thead th {\n",
       "        text-align: right;\n",
       "    }\n",
       "</style>\n",
       "<table border=\"1\" class=\"dataframe\">\n",
       "  <thead>\n",
       "    <tr style=\"text-align: right;\">\n",
       "      <th></th>\n",
       "      <th>0</th>\n",
       "      <th>1</th>\n",
       "      <th>2</th>\n",
       "      <th>3</th>\n",
       "    </tr>\n",
       "  </thead>\n",
       "  <tbody>\n",
       "    <tr>\n",
       "      <th>0</th>\n",
       "      <td>-0.334347</td>\n",
       "      <td>1.079687</td>\n",
       "      <td>-0.517586</td>\n",
       "      <td>0.005445</td>\n",
       "    </tr>\n",
       "    <tr>\n",
       "      <th>1</th>\n",
       "      <td>-0.317678</td>\n",
       "      <td>1.079921</td>\n",
       "      <td>-0.518111</td>\n",
       "      <td>0.005481</td>\n",
       "    </tr>\n",
       "    <tr>\n",
       "      <th>2</th>\n",
       "      <td>2.301254</td>\n",
       "      <td>1.583618</td>\n",
       "      <td>-0.640948</td>\n",
       "      <td>0.018710</td>\n",
       "    </tr>\n",
       "    <tr>\n",
       "      <th>3</th>\n",
       "      <td>-0.143875</td>\n",
       "      <td>-1.364152</td>\n",
       "      <td>0.153641</td>\n",
       "      <td>-0.000454</td>\n",
       "    </tr>\n",
       "    <tr>\n",
       "      <th>4</th>\n",
       "      <td>-0.148781</td>\n",
       "      <td>-2.059332</td>\n",
       "      <td>0.416882</td>\n",
       "      <td>-0.009088</td>\n",
       "    </tr>\n",
       "    <tr>\n",
       "      <th>...</th>\n",
       "      <td>...</td>\n",
       "      <td>...</td>\n",
       "      <td>...</td>\n",
       "      <td>...</td>\n",
       "    </tr>\n",
       "    <tr>\n",
       "      <th>527</th>\n",
       "      <td>2.469840</td>\n",
       "      <td>0.738723</td>\n",
       "      <td>-0.187100</td>\n",
       "      <td>0.048763</td>\n",
       "    </tr>\n",
       "    <tr>\n",
       "      <th>528</th>\n",
       "      <td>-0.332392</td>\n",
       "      <td>1.079571</td>\n",
       "      <td>-0.517614</td>\n",
       "      <td>0.005443</td>\n",
       "    </tr>\n",
       "    <tr>\n",
       "      <th>529</th>\n",
       "      <td>0.320420</td>\n",
       "      <td>-2.405727</td>\n",
       "      <td>0.433786</td>\n",
       "      <td>-0.017743</td>\n",
       "    </tr>\n",
       "    <tr>\n",
       "      <th>530</th>\n",
       "      <td>-0.153442</td>\n",
       "      <td>-2.008576</td>\n",
       "      <td>0.391803</td>\n",
       "      <td>-0.001421</td>\n",
       "    </tr>\n",
       "    <tr>\n",
       "      <th>531</th>\n",
       "      <td>-0.287972</td>\n",
       "      <td>0.897063</td>\n",
       "      <td>-0.259603</td>\n",
       "      <td>-0.000575</td>\n",
       "    </tr>\n",
       "  </tbody>\n",
       "</table>\n",
       "<p>532 rows × 4 columns</p>\n",
       "</div>"
      ],
      "text/plain": [
       "            0         1         2         3\n",
       "0   -0.334347  1.079687 -0.517586  0.005445\n",
       "1   -0.317678  1.079921 -0.518111  0.005481\n",
       "2    2.301254  1.583618 -0.640948  0.018710\n",
       "3   -0.143875 -1.364152  0.153641 -0.000454\n",
       "4   -0.148781 -2.059332  0.416882 -0.009088\n",
       "..        ...       ...       ...       ...\n",
       "527  2.469840  0.738723 -0.187100  0.048763\n",
       "528 -0.332392  1.079571 -0.517614  0.005443\n",
       "529  0.320420 -2.405727  0.433786 -0.017743\n",
       "530 -0.153442 -2.008576  0.391803 -0.001421\n",
       "531 -0.287972  0.897063 -0.259603 -0.000575\n",
       "\n",
       "[532 rows x 4 columns]"
      ]
     },
     "execution_count": 786,
     "metadata": {},
     "output_type": "execute_result"
    }
   ],
   "source": [
    "# Transform PCA data to a DataFrame\n",
    "df2"
   ]
  },
  {
   "cell_type": "code",
   "execution_count": 787,
   "id": "6eb647f5-636f-41b6-aa54-9687cfb7bc79",
   "metadata": {},
   "outputs": [],
   "source": [
    "# df.head()"
   ]
  },
  {
   "cell_type": "code",
   "execution_count": 788,
   "id": "eb50a726-6f46-43f5-be2b-6e594e15fe43",
   "metadata": {
    "scrolled": true,
    "tags": []
   },
   "outputs": [
    {
     "data": {
      "text/plain": [
       "array([0.0279315 , 0.02137919, 0.02049977, 0.02044472])"
      ]
     },
     "execution_count": 788,
     "metadata": {},
     "output_type": "execute_result"
    }
   ],
   "source": [
    "# Fetch the explained variance\n",
    "pca.explained_variance_ratio_"
   ]
  },
  {
   "cell_type": "code",
   "execution_count": 789,
   "id": "276b87f3-fece-440a-b651-2e7ff7aeece5",
   "metadata": {},
   "outputs": [],
   "source": [
    "# the PCA model reduced the dimension 910 to 240 saving 90% of the dataset in the process"
   ]
  },
  {
   "cell_type": "code",
   "execution_count": 790,
   "id": "002aab96-4f9e-426f-bb68-784695b6a7dd",
   "metadata": {},
   "outputs": [
    {
     "data": {
      "text/plain": [
       "(532, 4)"
      ]
     },
     "execution_count": 790,
     "metadata": {},
     "output_type": "execute_result"
    }
   ],
   "source": [
    "df2.shape"
   ]
  },
  {
   "cell_type": "code",
   "execution_count": 791,
   "id": "29a5696a-5697-43b2-88f3-360254c3323c",
   "metadata": {},
   "outputs": [
    {
     "data": {
      "image/png": "[encoded data removed]",
      "text/plain": [
       "<Figure size 1200x800 with 1 Axes>"
      ]
     },
     "metadata": {},
     "output_type": "display_data"
    }
   ],
   "source": [
    "# Plot explained variances\n",
    "features = range(pca.n_components_)\n",
    "plt.bar(features, pca.explained_variance_ratio_, color='green')\n",
    "plt.xlabel('PCA features')\n",
    "plt.ylabel('variance %')\n",
    "plt.xticks(features);"
   ]
  },
  {
   "cell_type": "code",
   "execution_count": 792,
   "id": "f14e85c2-83b4-4782-b576-22c3aa2648ec",
   "metadata": {},
   "outputs": [
    {
     "data": {
      "image/png": "[encoded data removed]",
      "text/plain": [
       "<Figure size 1200x800 with 1 Axes>"
      ]
     },
     "metadata": {},
     "output_type": "display_data"
    }
   ],
   "source": [
    "# Plot explained variances\n",
    "features = range(pca.n_components_)\n",
    "plt.bar(features, pca.explained_variance_ratio_, color='aqua')\n",
    "plt.xlabel('PCA features')\n",
    "plt.ylabel('variance %')\n",
    "plt.xticks(features);"
   ]
  },
  {
   "cell_type": "code",
   "execution_count": 793,
   "id": "fc717d79-61b0-4c9a-a33d-89ff36d6ad48",
   "metadata": {},
   "outputs": [],
   "source": [
    "# Further reducing with t-SNE (down to 2d plot - 2 dimensions)"
   ]
  },
  {
   "cell_type": "code",
   "execution_count": 794,
   "id": "c34c0c9b-bae4-49de-b9a5-3d6d627b5148",
   "metadata": {},
   "outputs": [],
   "source": [
    "from sklearn.manifold import TSNE"
   ]
  },
  {
   "cell_type": "code",
   "execution_count": 796,
   "id": "dc0e71fa-46b9-459f-91b5-a79b9807071e",
   "metadata": {},
   "outputs": [
    {
     "data": {
      "image/png": "[encoded data removed]",
      "text/plain": [
       "<Figure size 1200x800 with 1 Axes>"
      ]
     },
     "metadata": {},
     "output_type": "display_data"
    }
   ],
   "source": [
    "# Run t-SNE\n",
    "tsne = TSNE(learning_rate=25,perplexity=30)\n",
    "tsne_features = tsne.fit_transform(df)\n",
    "\n",
    "# Plot the results\n",
    "plt.scatter(tsne_features[:,0], tsne_features[:,1])\n",
    "plt.show()"
   ]
  },
  {
   "cell_type": "code",
   "execution_count": 260,
   "id": "a85714db-3de2-49cd-9ba8-579322ab5e86",
   "metadata": {},
   "outputs": [],
   "source": [
    "#df_coin_names.value_counts()"
   ]
  },
  {
   "cell_type": "code",
   "execution_count": 797,
   "id": "e093ccdc-1836-4b91-9d3f-1a72f276a363",
   "metadata": {},
   "outputs": [],
   "source": [
    "df = pd.DataFrame(tsne_features)"
   ]
  },
  {
   "cell_type": "code",
   "execution_count": 798,
   "id": "eab554c9-b9b1-478a-acfd-c5f052cdd45e",
   "metadata": {},
   "outputs": [],
   "source": [
    "# Use Kmeans to analyze clusters"
   ]
  },
  {
   "cell_type": "code",
   "execution_count": 799,
   "id": "ae00ac26-74c3-4568-bd8b-4058d37a60aa",
   "metadata": {},
   "outputs": [],
   "source": [
    "from sklearn.cluster import KMeans"
   ]
  },
  {
   "cell_type": "code",
   "execution_count": 800,
   "id": "a3666376-83a4-4c85-af1d-d6ef2d59b767",
   "metadata": {},
   "outputs": [
    {
     "data": {
      "text/plain": [
       "(532, 2)"
      ]
     },
     "execution_count": 800,
     "metadata": {},
     "output_type": "execute_result"
    }
   ],
   "source": [
    "df.shape"
   ]
  },
  {
   "cell_type": "code",
   "execution_count": 801,
   "id": "4d3e35b4-e34a-4fa3-8011-488952dd981a",
   "metadata": {},
   "outputs": [
    {
     "data": {
      "text/html": [
       "<div>\n",
       "<style scoped>\n",
       "    .dataframe tbody tr th:only-of-type {\n",
       "        vertical-align: middle;\n",
       "    }\n",
       "\n",
       "    .dataframe tbody tr th {\n",
       "        vertical-align: top;\n",
       "    }\n",
       "\n",
       "    .dataframe thead th {\n",
       "        text-align: right;\n",
       "    }\n",
       "</style>\n",
       "<table border=\"1\" class=\"dataframe\">\n",
       "  <thead>\n",
       "    <tr style=\"text-align: right;\">\n",
       "      <th></th>\n",
       "      <th>0</th>\n",
       "      <th>1</th>\n",
       "      <th>2</th>\n",
       "      <th>3</th>\n",
       "    </tr>\n",
       "  </thead>\n",
       "  <tbody>\n",
       "    <tr>\n",
       "      <th>0</th>\n",
       "      <td>-0.334347</td>\n",
       "      <td>1.079687</td>\n",
       "      <td>-0.517586</td>\n",
       "      <td>0.005445</td>\n",
       "    </tr>\n",
       "    <tr>\n",
       "      <th>1</th>\n",
       "      <td>-0.317678</td>\n",
       "      <td>1.079921</td>\n",
       "      <td>-0.518111</td>\n",
       "      <td>0.005481</td>\n",
       "    </tr>\n",
       "    <tr>\n",
       "      <th>2</th>\n",
       "      <td>2.301254</td>\n",
       "      <td>1.583618</td>\n",
       "      <td>-0.640948</td>\n",
       "      <td>0.018710</td>\n",
       "    </tr>\n",
       "    <tr>\n",
       "      <th>3</th>\n",
       "      <td>-0.143875</td>\n",
       "      <td>-1.364152</td>\n",
       "      <td>0.153641</td>\n",
       "      <td>-0.000454</td>\n",
       "    </tr>\n",
       "    <tr>\n",
       "      <th>4</th>\n",
       "      <td>-0.148781</td>\n",
       "      <td>-2.059332</td>\n",
       "      <td>0.416882</td>\n",
       "      <td>-0.009088</td>\n",
       "    </tr>\n",
       "  </tbody>\n",
       "</table>\n",
       "</div>"
      ],
      "text/plain": [
       "          0         1         2         3\n",
       "0 -0.334347  1.079687 -0.517586  0.005445\n",
       "1 -0.317678  1.079921 -0.518111  0.005481\n",
       "2  2.301254  1.583618 -0.640948  0.018710\n",
       "3 -0.143875 -1.364152  0.153641 -0.000454\n",
       "4 -0.148781 -2.059332  0.416882 -0.009088"
      ]
     },
     "execution_count": 801,
     "metadata": {},
     "output_type": "execute_result"
    }
   ],
   "source": [
    "crypto_pca = pd.DataFrame(df2)\n",
    "crypto_pca.head()"
   ]
  },
  {
   "cell_type": "code",
   "execution_count": 802,
   "id": "6d261189-17fe-4d42-a924-527777be0756",
   "metadata": {},
   "outputs": [
    {
     "name": "stdout",
     "output_type": "stream",
     "text": [
      "<class 'pandas.core.frame.DataFrame'>\n",
      "RangeIndex: 532 entries, 0 to 531\n",
      "Data columns (total 2 columns):\n",
      " #   Column  Non-Null Count  Dtype  \n",
      "---  ------  --------------  -----  \n",
      " 0   0       532 non-null    float32\n",
      " 1   1       532 non-null    float32\n",
      "dtypes: float32(2)\n",
      "memory usage: 4.3 KB\n"
     ]
    }
   ],
   "source": [
    "df.info()"
   ]
  },
  {
   "cell_type": "code",
   "execution_count": 803,
   "id": "3f89d27d-40c8-46a1-ad18-a63a4f242429",
   "metadata": {},
   "outputs": [],
   "source": [
    "df = df.select_dtypes(include='object').columns.tolist()"
   ]
  },
  {
   "cell_type": "code",
   "execution_count": 804,
   "id": "f52a3890-ea14-42c2-8d5d-9ef8f7ba9efb",
   "metadata": {},
   "outputs": [
    {
     "data": {
      "text/plain": [
       "[]"
      ]
     },
     "execution_count": 804,
     "metadata": {},
     "output_type": "execute_result"
    }
   ],
   "source": [
    "df"
   ]
  },
  {
   "cell_type": "code",
   "execution_count": 805,
   "id": "2ef74d14-f5b4-4560-b68e-d79ec8ed4384",
   "metadata": {},
   "outputs": [
    {
     "data": {
      "image/png": "[encoded data removed]",
      "text/plain": [
       "<Figure size 1200x800 with 1 Axes>"
      ]
     },
     "metadata": {},
     "output_type": "display_data"
    }
   ],
   "source": [
    "# Finding the best value for k\n",
    "inertia = []\n",
    "k = list(range(2, 11))\n",
    "\n",
    "# Calculate the inertia for the range of k values from 1-10\n",
    "for i in k:\n",
    "    km = KMeans(n_clusters=i, random_state=42)\n",
    "    km.fit(df2)\n",
    "    inertia.append(km.inertia_)\n",
    "\n",
    "# Creating the Elbow Curve\n",
    "elbow_data = {\"k\": k, \"inertia\": inertia}\n",
    "df_elbow = pd.DataFrame(elbow_data)\n",
    "plt.plot(df_elbow['k'], df_elbow['inertia'])\n",
    "plt.xticks(range(1,11))\n",
    "plt.xlabel('Number of clusters')\n",
    "plt.ylabel('Inertia')\n",
    "plt.show();"
   ]
  },
  {
   "cell_type": "code",
   "execution_count": 806,
   "id": "57922c26-b4c9-413a-bb9c-8900dc1391d4",
   "metadata": {},
   "outputs": [
    {
     "data": {
      "image/png": "[encoded data removed]",
      "text/plain": [
       "<Figure size 2000x5000 with 1 Axes>"
      ]
     },
     "metadata": {},
     "output_type": "display_data"
    }
   ],
   "source": [
    "import seaborn as sns\n",
    "# Heat map to identify highly correlated variables\n",
    "plt.figure(figsize=(20,50))\n",
    "sns.heatmap(df2.corr(),\n",
    "            annot=True,\n",
    "            linewidths=.5,\n",
    "            center=0,\n",
    "            cbar=False,\n",
    "            cmap=\"summer\")\n",
    "plt.show()"
   ]
  },
  {
   "cell_type": "code",
   "execution_count": 807,
   "id": "231b6746-d25a-4988-8694-f8d5bbf773c8",
   "metadata": {},
   "outputs": [
    {
     "data": {
      "text/html": [
       "<div>\n",
       "<style scoped>\n",
       "    .dataframe tbody tr th:only-of-type {\n",
       "        vertical-align: middle;\n",
       "    }\n",
       "\n",
       "    .dataframe tbody tr th {\n",
       "        vertical-align: top;\n",
       "    }\n",
       "\n",
       "    .dataframe thead th {\n",
       "        text-align: right;\n",
       "    }\n",
       "</style>\n",
       "<table border=\"1\" class=\"dataframe\">\n",
       "  <thead>\n",
       "    <tr style=\"text-align: right;\">\n",
       "      <th></th>\n",
       "      <th>0</th>\n",
       "      <th>1</th>\n",
       "    </tr>\n",
       "  </thead>\n",
       "  <tbody>\n",
       "    <tr>\n",
       "      <th>0</th>\n",
       "      <td>-6.673786</td>\n",
       "      <td>-16.979353</td>\n",
       "    </tr>\n",
       "    <tr>\n",
       "      <th>1</th>\n",
       "      <td>-2.400818</td>\n",
       "      <td>-11.468277</td>\n",
       "    </tr>\n",
       "    <tr>\n",
       "      <th>2</th>\n",
       "      <td>-14.787830</td>\n",
       "      <td>-17.444750</td>\n",
       "    </tr>\n",
       "    <tr>\n",
       "      <th>3</th>\n",
       "      <td>-30.148325</td>\n",
       "      <td>5.424385</td>\n",
       "    </tr>\n",
       "    <tr>\n",
       "      <th>4</th>\n",
       "      <td>16.220232</td>\n",
       "      <td>12.214208</td>\n",
       "    </tr>\n",
       "    <tr>\n",
       "      <th>...</th>\n",
       "      <td>...</td>\n",
       "      <td>...</td>\n",
       "    </tr>\n",
       "    <tr>\n",
       "      <th>527</th>\n",
       "      <td>-27.450275</td>\n",
       "      <td>3.502777</td>\n",
       "    </tr>\n",
       "    <tr>\n",
       "      <th>528</th>\n",
       "      <td>-6.113212</td>\n",
       "      <td>-11.327582</td>\n",
       "    </tr>\n",
       "    <tr>\n",
       "      <th>529</th>\n",
       "      <td>9.670633</td>\n",
       "      <td>19.846270</td>\n",
       "    </tr>\n",
       "    <tr>\n",
       "      <th>530</th>\n",
       "      <td>1.982597</td>\n",
       "      <td>17.505049</td>\n",
       "    </tr>\n",
       "    <tr>\n",
       "      <th>531</th>\n",
       "      <td>-11.272651</td>\n",
       "      <td>7.033642</td>\n",
       "    </tr>\n",
       "  </tbody>\n",
       "</table>\n",
       "<p>532 rows × 2 columns</p>\n",
       "</div>"
      ],
      "text/plain": [
       "             0          1\n",
       "0    -6.673786 -16.979353\n",
       "1    -2.400818 -11.468277\n",
       "2   -14.787830 -17.444750\n",
       "3   -30.148325   5.424385\n",
       "4    16.220232  12.214208\n",
       "..         ...        ...\n",
       "527 -27.450275   3.502777\n",
       "528  -6.113212 -11.327582\n",
       "529   9.670633  19.846270\n",
       "530   1.982597  17.505049\n",
       "531 -11.272651   7.033642\n",
       "\n",
       "[532 rows x 2 columns]"
      ]
     },
     "execution_count": 807,
     "metadata": {},
     "output_type": "execute_result"
    }
   ],
   "source": [
    "k_means_df = pd.DataFrame(tsne_features).reset_index(drop=True)\n",
    "k_means_df"
   ]
  },
  {
   "cell_type": "code",
   "execution_count": 808,
   "id": "00dc4521-2ba5-42b7-9d83-037fae530ab0",
   "metadata": {},
   "outputs": [],
   "source": [
    "def get_clusters(k, data):\n",
    "    # Initialize the K-Means model\n",
    "    model = KMeans(n_clusters=k, random_state=0)\n",
    "\n",
    "    # Train the model\n",
    "    model.fit(data)\n",
    "\n",
    "    # Predict clusters\n",
    "    predictions = model.predict(data)\n",
    "\n",
    "    # Create return DataFrame with predicted clusters\n",
    "    data[\"class\"] = model.labels_\n",
    "\n",
    "    return data"
   ]
  },
  {
   "cell_type": "code",
   "execution_count": 809,
   "id": "f9ae791a-b9d2-43da-80fe-9a4fe6ac6098",
   "metadata": {},
   "outputs": [
    {
     "data": {
      "text/html": [
       "<div>\n",
       "<style scoped>\n",
       "    .dataframe tbody tr th:only-of-type {\n",
       "        vertical-align: middle;\n",
       "    }\n",
       "\n",
       "    .dataframe tbody tr th {\n",
       "        vertical-align: top;\n",
       "    }\n",
       "\n",
       "    .dataframe thead th {\n",
       "        text-align: right;\n",
       "    }\n",
       "</style>\n",
       "<table border=\"1\" class=\"dataframe\">\n",
       "  <thead>\n",
       "    <tr style=\"text-align: right;\">\n",
       "      <th></th>\n",
       "      <th>0</th>\n",
       "      <th>1</th>\n",
       "      <th>class</th>\n",
       "    </tr>\n",
       "  </thead>\n",
       "  <tbody>\n",
       "    <tr>\n",
       "      <th>0</th>\n",
       "      <td>-6.673786</td>\n",
       "      <td>-16.979353</td>\n",
       "      <td>2</td>\n",
       "    </tr>\n",
       "    <tr>\n",
       "      <th>1</th>\n",
       "      <td>-2.400818</td>\n",
       "      <td>-11.468277</td>\n",
       "      <td>2</td>\n",
       "    </tr>\n",
       "    <tr>\n",
       "      <th>2</th>\n",
       "      <td>-14.787830</td>\n",
       "      <td>-17.444750</td>\n",
       "      <td>2</td>\n",
       "    </tr>\n",
       "    <tr>\n",
       "      <th>3</th>\n",
       "      <td>-30.148325</td>\n",
       "      <td>5.424385</td>\n",
       "      <td>0</td>\n",
       "    </tr>\n",
       "    <tr>\n",
       "      <th>4</th>\n",
       "      <td>16.220232</td>\n",
       "      <td>12.214208</td>\n",
       "      <td>1</td>\n",
       "    </tr>\n",
       "    <tr>\n",
       "      <th>...</th>\n",
       "      <td>...</td>\n",
       "      <td>...</td>\n",
       "      <td>...</td>\n",
       "    </tr>\n",
       "    <tr>\n",
       "      <th>527</th>\n",
       "      <td>-27.450275</td>\n",
       "      <td>3.502777</td>\n",
       "      <td>0</td>\n",
       "    </tr>\n",
       "    <tr>\n",
       "      <th>528</th>\n",
       "      <td>-6.113212</td>\n",
       "      <td>-11.327582</td>\n",
       "      <td>2</td>\n",
       "    </tr>\n",
       "    <tr>\n",
       "      <th>529</th>\n",
       "      <td>9.670633</td>\n",
       "      <td>19.846270</td>\n",
       "      <td>1</td>\n",
       "    </tr>\n",
       "    <tr>\n",
       "      <th>530</th>\n",
       "      <td>1.982597</td>\n",
       "      <td>17.505049</td>\n",
       "      <td>1</td>\n",
       "    </tr>\n",
       "    <tr>\n",
       "      <th>531</th>\n",
       "      <td>-11.272651</td>\n",
       "      <td>7.033642</td>\n",
       "      <td>0</td>\n",
       "    </tr>\n",
       "  </tbody>\n",
       "</table>\n",
       "<p>532 rows × 3 columns</p>\n",
       "</div>"
      ],
      "text/plain": [
       "             0          1  class\n",
       "0    -6.673786 -16.979353      2\n",
       "1    -2.400818 -11.468277      2\n",
       "2   -14.787830 -17.444750      2\n",
       "3   -30.148325   5.424385      0\n",
       "4    16.220232  12.214208      1\n",
       "..         ...        ...    ...\n",
       "527 -27.450275   3.502777      0\n",
       "528  -6.113212 -11.327582      2\n",
       "529   9.670633  19.846270      1\n",
       "530   1.982597  17.505049      1\n",
       "531 -11.272651   7.033642      0\n",
       "\n",
       "[532 rows x 3 columns]"
      ]
     },
     "execution_count": 809,
     "metadata": {},
     "output_type": "execute_result"
    }
   ],
   "source": [
    "get_clusters(4, k_means_df)"
   ]
  },
  {
   "cell_type": "code",
   "execution_count": 810,
   "id": "57fb7d5f-ccf3-4929-a14d-80f4b3e4669e",
   "metadata": {},
   "outputs": [
    {
     "data": {
      "text/plain": [
       "4"
      ]
     },
     "execution_count": 810,
     "metadata": {},
     "output_type": "execute_result"
    }
   ],
   "source": [
    "k_means_df['class'].nunique()"
   ]
  },
  {
   "cell_type": "code",
   "execution_count": 670,
   "id": "f0afbd98-a7f8-48f7-bc0a-e48c7c7c2fba",
   "metadata": {},
   "outputs": [],
   "source": [
    "# K means subdivided crypto currencies into 4 different classes based on clusters"
   ]
  },
  {
   "cell_type": "code",
   "execution_count": 811,
   "id": "fb86dad8-a204-47c8-8f37-664d9b8c0fa7",
   "metadata": {},
   "outputs": [],
   "source": [
    "def show_clusters(df):\n",
    "    plt.scatter(df[0], df[1], c=df['class'])\n",
    "    plt.xlabel('pca1')\n",
    "    plt.ylabel('pca2')\n",
    "    plt.show()"
   ]
  },
  {
   "cell_type": "code",
   "execution_count": 812,
   "id": "87648dec-6e04-4b4e-816a-32016f8d17a2",
   "metadata": {},
   "outputs": [
    {
     "data": {
      "image/png": "[encoded data removed]",
      "text/plain": [
       "<Figure size 1200x800 with 1 Axes>"
      ]
     },
     "metadata": {},
     "output_type": "display_data"
    }
   ],
   "source": [
    "show_clusters(k_means_df)"
   ]
  },
  {
   "cell_type": "code",
   "execution_count": 813,
   "id": "80670776-13cf-4c42-acf7-31c946a0f4dd",
   "metadata": {},
   "outputs": [
    {
     "data": {
      "text/plain": [
       "0           42 Coin\n",
       "2           404Coin\n",
       "5         EliteCoin\n",
       "7           Bitcoin\n",
       "8          Ethereum\n",
       "           ...     \n",
       "1238         ZEPHYR\n",
       "1242        Gapcoin\n",
       "1245         Beldex\n",
       "1246        Horizen\n",
       "1247    BitcoinPlus\n",
       "Name: CoinName, Length: 532, dtype: object"
      ]
     },
     "execution_count": 813,
     "metadata": {},
     "output_type": "execute_result"
    }
   ],
   "source": [
    "df_coin_names"
   ]
  },
  {
   "cell_type": "code",
   "execution_count": 814,
   "id": "93aead52-cc46-45a8-9f01-905263acff60",
   "metadata": {},
   "outputs": [
    {
     "data": {
      "text/html": [
       "<div>\n",
       "<style scoped>\n",
       "    .dataframe tbody tr th:only-of-type {\n",
       "        vertical-align: middle;\n",
       "    }\n",
       "\n",
       "    .dataframe tbody tr th {\n",
       "        vertical-align: top;\n",
       "    }\n",
       "\n",
       "    .dataframe thead th {\n",
       "        text-align: right;\n",
       "    }\n",
       "</style>\n",
       "<table border=\"1\" class=\"dataframe\">\n",
       "  <thead>\n",
       "    <tr style=\"text-align: right;\">\n",
       "      <th></th>\n",
       "      <th>0</th>\n",
       "      <th>1</th>\n",
       "      <th>class</th>\n",
       "    </tr>\n",
       "  </thead>\n",
       "  <tbody>\n",
       "    <tr>\n",
       "      <th>0</th>\n",
       "      <td>-6.673786</td>\n",
       "      <td>-16.979353</td>\n",
       "      <td>2</td>\n",
       "    </tr>\n",
       "    <tr>\n",
       "      <th>1</th>\n",
       "      <td>-2.400818</td>\n",
       "      <td>-11.468277</td>\n",
       "      <td>2</td>\n",
       "    </tr>\n",
       "    <tr>\n",
       "      <th>2</th>\n",
       "      <td>-14.787830</td>\n",
       "      <td>-17.444750</td>\n",
       "      <td>2</td>\n",
       "    </tr>\n",
       "    <tr>\n",
       "      <th>3</th>\n",
       "      <td>-30.148325</td>\n",
       "      <td>5.424385</td>\n",
       "      <td>0</td>\n",
       "    </tr>\n",
       "    <tr>\n",
       "      <th>4</th>\n",
       "      <td>16.220232</td>\n",
       "      <td>12.214208</td>\n",
       "      <td>1</td>\n",
       "    </tr>\n",
       "    <tr>\n",
       "      <th>...</th>\n",
       "      <td>...</td>\n",
       "      <td>...</td>\n",
       "      <td>...</td>\n",
       "    </tr>\n",
       "    <tr>\n",
       "      <th>527</th>\n",
       "      <td>-27.450275</td>\n",
       "      <td>3.502777</td>\n",
       "      <td>0</td>\n",
       "    </tr>\n",
       "    <tr>\n",
       "      <th>528</th>\n",
       "      <td>-6.113212</td>\n",
       "      <td>-11.327582</td>\n",
       "      <td>2</td>\n",
       "    </tr>\n",
       "    <tr>\n",
       "      <th>529</th>\n",
       "      <td>9.670633</td>\n",
       "      <td>19.846270</td>\n",
       "      <td>1</td>\n",
       "    </tr>\n",
       "    <tr>\n",
       "      <th>530</th>\n",
       "      <td>1.982597</td>\n",
       "      <td>17.505049</td>\n",
       "      <td>1</td>\n",
       "    </tr>\n",
       "    <tr>\n",
       "      <th>531</th>\n",
       "      <td>-11.272651</td>\n",
       "      <td>7.033642</td>\n",
       "      <td>0</td>\n",
       "    </tr>\n",
       "  </tbody>\n",
       "</table>\n",
       "<p>532 rows × 3 columns</p>\n",
       "</div>"
      ],
      "text/plain": [
       "             0          1  class\n",
       "0    -6.673786 -16.979353      2\n",
       "1    -2.400818 -11.468277      2\n",
       "2   -14.787830 -17.444750      2\n",
       "3   -30.148325   5.424385      0\n",
       "4    16.220232  12.214208      1\n",
       "..         ...        ...    ...\n",
       "527 -27.450275   3.502777      0\n",
       "528  -6.113212 -11.327582      2\n",
       "529   9.670633  19.846270      1\n",
       "530   1.982597  17.505049      1\n",
       "531 -11.272651   7.033642      0\n",
       "\n",
       "[532 rows x 3 columns]"
      ]
     },
     "execution_count": 814,
     "metadata": {},
     "output_type": "execute_result"
    }
   ],
   "source": [
    "k_means_df"
   ]
  },
  {
   "cell_type": "code",
   "execution_count": 819,
   "id": "0f3181f5-51b2-48d5-b629-f0fa879f9b89",
   "metadata": {},
   "outputs": [],
   "source": [
    "df_coins = df_coin_names.reset_index()"
   ]
  },
  {
   "cell_type": "code",
   "execution_count": 821,
   "id": "584dcbf5-5dfd-42c4-9bcf-ecad7327274c",
   "metadata": {},
   "outputs": [
    {
     "data": {
      "text/html": [
       "<div>\n",
       "<style scoped>\n",
       "    .dataframe tbody tr th:only-of-type {\n",
       "        vertical-align: middle;\n",
       "    }\n",
       "\n",
       "    .dataframe tbody tr th {\n",
       "        vertical-align: top;\n",
       "    }\n",
       "\n",
       "    .dataframe thead th {\n",
       "        text-align: right;\n",
       "    }\n",
       "</style>\n",
       "<table border=\"1\" class=\"dataframe\">\n",
       "  <thead>\n",
       "    <tr style=\"text-align: right;\">\n",
       "      <th></th>\n",
       "      <th>CoinName</th>\n",
       "    </tr>\n",
       "  </thead>\n",
       "  <tbody>\n",
       "    <tr>\n",
       "      <th>0</th>\n",
       "      <td>42 Coin</td>\n",
       "    </tr>\n",
       "    <tr>\n",
       "      <th>1</th>\n",
       "      <td>404Coin</td>\n",
       "    </tr>\n",
       "    <tr>\n",
       "      <th>2</th>\n",
       "      <td>EliteCoin</td>\n",
       "    </tr>\n",
       "    <tr>\n",
       "      <th>3</th>\n",
       "      <td>Bitcoin</td>\n",
       "    </tr>\n",
       "    <tr>\n",
       "      <th>4</th>\n",
       "      <td>Ethereum</td>\n",
       "    </tr>\n",
       "    <tr>\n",
       "      <th>...</th>\n",
       "      <td>...</td>\n",
       "    </tr>\n",
       "    <tr>\n",
       "      <th>527</th>\n",
       "      <td>ZEPHYR</td>\n",
       "    </tr>\n",
       "    <tr>\n",
       "      <th>528</th>\n",
       "      <td>Gapcoin</td>\n",
       "    </tr>\n",
       "    <tr>\n",
       "      <th>529</th>\n",
       "      <td>Beldex</td>\n",
       "    </tr>\n",
       "    <tr>\n",
       "      <th>530</th>\n",
       "      <td>Horizen</td>\n",
       "    </tr>\n",
       "    <tr>\n",
       "      <th>531</th>\n",
       "      <td>BitcoinPlus</td>\n",
       "    </tr>\n",
       "  </tbody>\n",
       "</table>\n",
       "<p>532 rows × 1 columns</p>\n",
       "</div>"
      ],
      "text/plain": [
       "        CoinName\n",
       "0        42 Coin\n",
       "1        404Coin\n",
       "2      EliteCoin\n",
       "3        Bitcoin\n",
       "4       Ethereum\n",
       "..           ...\n",
       "527       ZEPHYR\n",
       "528      Gapcoin\n",
       "529       Beldex\n",
       "530      Horizen\n",
       "531  BitcoinPlus\n",
       "\n",
       "[532 rows x 1 columns]"
      ]
     },
     "execution_count": 821,
     "metadata": {},
     "output_type": "execute_result"
    }
   ],
   "source": [
    "df_coins.drop('index', axis=1)"
   ]
  },
  {
   "cell_type": "code",
   "execution_count": 833,
   "id": "e033dd63-4deb-4cd7-be18-8b0e673c80ad",
   "metadata": {},
   "outputs": [],
   "source": [
    "final_df = pd.concat([df_coins, k_means_df],axis=1, sort=False)\n",
    "df = final_df \n",
    "df = df.drop('index', axis=1)"
   ]
  },
  {
   "cell_type": "code",
   "execution_count": 834,
   "id": "2abdd2c2-d324-4e2b-9712-ff9acfd1e4cd",
   "metadata": {},
   "outputs": [],
   "source": [
    "coinclass1 = df[df['class'] == 1]\n",
    "coinclass2 = df[df['class'] == 2]\n",
    "coinclass3 = df[df['class'] == 3]\n",
    "coinclass4 = df[df['class'] == 4]"
   ]
  },
  {
   "cell_type": "code",
   "execution_count": 835,
   "id": "faf3276f-e22e-41db-a4c2-0cc86a8f6a97",
   "metadata": {},
   "outputs": [
    {
     "data": {
      "text/html": [
       "<div>\n",
       "<style scoped>\n",
       "    .dataframe tbody tr th:only-of-type {\n",
       "        vertical-align: middle;\n",
       "    }\n",
       "\n",
       "    .dataframe tbody tr th {\n",
       "        vertical-align: top;\n",
       "    }\n",
       "\n",
       "    .dataframe thead th {\n",
       "        text-align: right;\n",
       "    }\n",
       "</style>\n",
       "<table border=\"1\" class=\"dataframe\">\n",
       "  <thead>\n",
       "    <tr style=\"text-align: right;\">\n",
       "      <th></th>\n",
       "      <th>CoinName</th>\n",
       "      <th>0</th>\n",
       "      <th>1</th>\n",
       "      <th>class</th>\n",
       "    </tr>\n",
       "  </thead>\n",
       "  <tbody>\n",
       "    <tr>\n",
       "      <th>4</th>\n",
       "      <td>Ethereum</td>\n",
       "      <td>16.220232</td>\n",
       "      <td>12.214208</td>\n",
       "      <td>1</td>\n",
       "    </tr>\n",
       "    <tr>\n",
       "      <th>5</th>\n",
       "      <td>Litecoin</td>\n",
       "      <td>2.848560</td>\n",
       "      <td>7.452652</td>\n",
       "      <td>1</td>\n",
       "    </tr>\n",
       "    <tr>\n",
       "      <th>7</th>\n",
       "      <td>Monero</td>\n",
       "      <td>14.205613</td>\n",
       "      <td>6.836220</td>\n",
       "      <td>1</td>\n",
       "    </tr>\n",
       "    <tr>\n",
       "      <th>8</th>\n",
       "      <td>Ethereum Classic</td>\n",
       "      <td>16.220324</td>\n",
       "      <td>12.214227</td>\n",
       "      <td>1</td>\n",
       "    </tr>\n",
       "    <tr>\n",
       "      <th>9</th>\n",
       "      <td>ZCash</td>\n",
       "      <td>1.982597</td>\n",
       "      <td>17.505049</td>\n",
       "      <td>1</td>\n",
       "    </tr>\n",
       "    <tr>\n",
       "      <th>...</th>\n",
       "      <td>...</td>\n",
       "      <td>...</td>\n",
       "      <td>...</td>\n",
       "      <td>...</td>\n",
       "    </tr>\n",
       "    <tr>\n",
       "      <th>521</th>\n",
       "      <td>Oxycoin</td>\n",
       "      <td>-3.299254</td>\n",
       "      <td>10.748718</td>\n",
       "      <td>1</td>\n",
       "    </tr>\n",
       "    <tr>\n",
       "      <th>523</th>\n",
       "      <td>Waves</td>\n",
       "      <td>-0.749200</td>\n",
       "      <td>5.021681</td>\n",
       "      <td>1</td>\n",
       "    </tr>\n",
       "    <tr>\n",
       "      <th>525</th>\n",
       "      <td>BitTorrent</td>\n",
       "      <td>7.446976</td>\n",
       "      <td>14.576147</td>\n",
       "      <td>1</td>\n",
       "    </tr>\n",
       "    <tr>\n",
       "      <th>529</th>\n",
       "      <td>Beldex</td>\n",
       "      <td>9.670633</td>\n",
       "      <td>19.846270</td>\n",
       "      <td>1</td>\n",
       "    </tr>\n",
       "    <tr>\n",
       "      <th>530</th>\n",
       "      <td>Horizen</td>\n",
       "      <td>1.982597</td>\n",
       "      <td>17.505049</td>\n",
       "      <td>1</td>\n",
       "    </tr>\n",
       "  </tbody>\n",
       "</table>\n",
       "<p>205 rows × 4 columns</p>\n",
       "</div>"
      ],
      "text/plain": [
       "             CoinName          0          1  class\n",
       "4            Ethereum  16.220232  12.214208      1\n",
       "5            Litecoin   2.848560   7.452652      1\n",
       "7              Monero  14.205613   6.836220      1\n",
       "8    Ethereum Classic  16.220324  12.214227      1\n",
       "9               ZCash   1.982597  17.505049      1\n",
       "..                ...        ...        ...    ...\n",
       "521           Oxycoin  -3.299254  10.748718      1\n",
       "523             Waves  -0.749200   5.021681      1\n",
       "525        BitTorrent   7.446976  14.576147      1\n",
       "529            Beldex   9.670633  19.846270      1\n",
       "530           Horizen   1.982597  17.505049      1\n",
       "\n",
       "[205 rows x 4 columns]"
      ]
     },
     "execution_count": 835,
     "metadata": {},
     "output_type": "execute_result"
    }
   ],
   "source": [
    "coinclass1"
   ]
  },
  {
   "cell_type": "code",
   "execution_count": 837,
   "id": "a0b54899-976d-4a42-8f22-2cfa7517f82c",
   "metadata": {},
   "outputs": [
    {
     "data": {
      "application/vnd.jupyter.widget-view+json": {
       "model_id": "3429bb63a73f4d429d74a9601d791318",
       "version_major": 2,
       "version_minor": 0
      },
      "text/plain": [
       "                                             |      | [  0%]   00:00 -> (? left)"
      ]
     },
     "metadata": {},
     "output_type": "display_data"
    },
    {
     "name": "stderr",
     "output_type": "stream",
     "text": [
      "/Users/ccbernal/opt/anaconda3/envs/pycaret_env/lib/python3.8/site-packages/sweetviz/graph_associations.py:223: FutureWarning: The frame.append method is deprecated and will be removed from pandas in a future version. Use pandas.concat instead.\n",
      "  new_dataframe = new_dataframe.append(pd.Series(empty_row_dict, name=feature))\n",
      "/Users/ccbernal/opt/anaconda3/envs/pycaret_env/lib/python3.8/site-packages/sweetviz/graph_associations.py:223: FutureWarning: The frame.append method is deprecated and will be removed from pandas in a future version. Use pandas.concat instead.\n",
      "  new_dataframe = new_dataframe.append(pd.Series(empty_row_dict, name=feature))\n",
      "/Users/ccbernal/opt/anaconda3/envs/pycaret_env/lib/python3.8/site-packages/sweetviz/graph_associations.py:223: FutureWarning: The frame.append method is deprecated and will be removed from pandas in a future version. Use pandas.concat instead.\n",
      "  new_dataframe = new_dataframe.append(pd.Series(empty_row_dict, name=feature))\n"
     ]
    },
    {
     "name": "stdout",
     "output_type": "stream",
     "text": [
      "Report SWEETVIZ_REPORT.html was generated! NOTEBOOK/COLAB USERS: the web browser MAY not pop up, regardless, the report IS saved in your notebook/colab files.\n"
     ]
    }
   ],
   "source": [
    "import sweetviz as sv\n",
    "\n",
    "#You could specify which variable in your dataset is the target for your model creation. We can specify it using the target_feat parameter.\n",
    "\n",
    "my_report = sv.analyze(df)\n",
    "\n",
    "my_report.show_html()\n",
    "\n",
    "##Subset by using the compare_intra. We input the condition in the parameter and the name as well.\n",
    "\n",
    "# my_report = sv.compare_intra(df, df[\"column\"] == \"variable\", [\"variable1\", \"variable2\"], target_feat ='column')\n",
    "\n",
    "# my_report.show_html()"
   ]
  },
  {
   "cell_type": "code",
   "execution_count": 838,
   "id": "b6222c61-5ab1-4d38-9735-d28c73d2900e",
   "metadata": {},
   "outputs": [],
   "source": [
    "coinclass1.to_csv('CryptoClass1')\n",
    "coinclass2.to_csv('CryptoClass2')\n",
    "coinclass3.to_csv('CryptoClass3')\n",
    "coinclass4.to_csv('CryptoClass4')"
   ]
  },
  {
   "cell_type": "code",
   "execution_count": null,
   "id": "f98365a0-b616-47b6-a3cc-9325abdffca8",
   "metadata": {},
   "outputs": [],
   "source": []
  }
 ],
 "metadata": {
  "kernelspec": {
   "display_name": "pycaret_env",
   "language": "python",
   "name": "pycaret_env"
  },
  "language_info": {
   "codemirror_mode": {
    "name": "ipython",
    "version": 3
   },
   "file_extension": ".py",
   "mimetype": "text/x-python",
   "name": "python",
   "nbconvert_exporter": "python",
   "pygments_lexer": "ipython3",
   "version": "3.8.12"
  }
 },
 "nbformat": 4,
 "nbformat_minor": 5
}
